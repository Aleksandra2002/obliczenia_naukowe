{
  "nbformat": 4,
  "nbformat_minor": 0,
  "metadata": {
    "colab": {
      "name": "lab4.ipynb",
      "provenance": [],
      "authorship_tag": "ABX9TyPziitOe+AJI7Dki4EkfprX",
      "include_colab_link": true
    },
    "kernelspec": {
      "name": "python3",
      "display_name": "Python 3"
    },
    "language_info": {
      "name": "python"
    }
  },
  "cells": [
    {
      "cell_type": "markdown",
      "metadata": {
        "id": "view-in-github",
        "colab_type": "text"
      },
      "source": [
        "<a href=\"https://colab.research.google.com/github/Aleksandra2002/obliczenia_naukowe/blob/main/lab4.ipynb\" target=\"_parent\"><img src=\"https://colab.research.google.com/assets/colab-badge.svg\" alt=\"Open In Colab\"/></a>"
      ]
    },
    {
      "cell_type": "markdown",
      "source": [
        "%time - policzy ile czasu robi polecenie (magic)\n",
        "%timeit - liczy "
      ],
      "metadata": {
        "id": "UP8yr4YUdzQC"
      }
    },
    {
      "cell_type": "code",
      "execution_count": 3,
      "metadata": {
        "colab": {
          "base_uri": "https://localhost:8080/"
        },
        "id": "kXNNZy7jcyAP",
        "outputId": "4d53caea-a993-4f44-8fec-3c1950a2d670"
      },
      "outputs": [
        {
          "output_type": "execute_result",
          "data": {
            "text/plain": [
              "array([0.        , 0.11111111, 0.22222222, 0.33333333, 0.44444444,\n",
              "       0.55555556, 0.66666667, 0.77777778, 0.88888889, 1.        ])"
            ]
          },
          "metadata": {},
          "execution_count": 3
        }
      ],
      "source": [
        "import numpy as np\n",
        "#funkcja licząca pole między wykresem a osią OX\n",
        "#wyr - funkcja\n",
        "#przedział (a,b)\n",
        "#N - liczba kroków/podziałów\n",
        "#N-1 - liczba odcinków\n",
        "np.linspace(0,1,10) #podział na N punktów"
      ]
    },
    {
      "cell_type": "code",
      "source": [
        "def calka(funkcja,a,b,N):\n",
        "  podzial=np.linspace(a,b,N)\n",
        "  podstawa = (b-a)/(N-1)\n",
        "  wartosc=0\n",
        "  for i in range (N-1):\n",
        "    wartosc += podstawa*abs(funkcja(podzial[i]))\n",
        "  return wartosc\n",
        "calka(lambda x:x**2,0,1,100)\n",
        "  "
      ],
      "metadata": {
        "colab": {
          "base_uri": "https://localhost:8080/"
        },
        "id": "OA2ygSgqiYxe",
        "outputId": "b932ab41-58ac-4c18-a524-30dd50c3b7ce"
      },
      "execution_count": 18,
      "outputs": [
        {
          "output_type": "execute_result",
          "data": {
            "text/plain": [
              "0.3282998333503384"
            ]
          },
          "metadata": {},
          "execution_count": 18
        }
      ]
    },
    {
      "cell_type": "markdown",
      "source": [
        "\n",
        "#NUMPY - tworzy tablice/listy\n",
        "\n"
      ],
      "metadata": {
        "id": "kZE4iu2robo7"
      }
    },
    {
      "cell_type": "markdown",
      "source": [
        "ndim - ile ma wymiarów\n",
        "size - ile ma elementów ta tablica\n",
        "dtype - jakie mamy typy\n",
        "nbytes - ile zajmuje pamięci tablica"
      ],
      "metadata": {
        "id": "Q_CXqS7Vo7Tk"
      }
    },
    {
      "cell_type": "code",
      "source": [
        "tab =np.array([[1,2],[3,4],[4,1]])\n",
        "tab.dtype"
      ],
      "metadata": {
        "colab": {
          "base_uri": "https://localhost:8080/"
        },
        "id": "UDV6506oojZQ",
        "outputId": "2847e217-7ab3-4eef-862e-db9c3941ee15"
      },
      "execution_count": 22,
      "outputs": [
        {
          "output_type": "execute_result",
          "data": {
            "text/plain": [
              "dtype('int64')"
            ]
          },
          "metadata": {},
          "execution_count": 22
        }
      ]
    },
    {
      "cell_type": "code",
      "source": [
        "tablica = np.array([[1,3,5],[1,6,8],[3,4,5],[3,4,9]])\n",
        "print (tablica.size, tablica.ndim,tablica.nbytes)"
      ],
      "metadata": {
        "colab": {
          "base_uri": "https://localhost:8080/"
        },
        "id": "09yJVMJEpt4M",
        "outputId": "ee8a8fc6-b7a6-4c34-e4f8-4e117f96167b"
      },
      "execution_count": 27,
      "outputs": [
        {
          "output_type": "stream",
          "name": "stdout",
          "text": [
            "12 2 96\n"
          ]
        }
      ]
    },
    {
      "cell_type": "code",
      "source": [
        "#zamiana typu z int na float\n",
        "tablica1=np.array(tablica,dtype=float)\n",
        "tablica1"
      ],
      "metadata": {
        "colab": {
          "base_uri": "https://localhost:8080/"
        },
        "id": "LYBAR0QyqOjt",
        "outputId": "5e1be880-8edc-41f5-b81a-ec696d73b4a5"
      },
      "execution_count": 29,
      "outputs": [
        {
          "output_type": "execute_result",
          "data": {
            "text/plain": [
              "array([[1., 3., 5.],\n",
              "       [1., 6., 8.],\n",
              "       [3., 4., 5.],\n",
              "       [3., 4., 9.]])"
            ]
          },
          "metadata": {},
          "execution_count": 29
        }
      ]
    },
    {
      "cell_type": "code",
      "source": [
        "tab3=np.array([-1,0,1])\n",
        "np.sqrt(tab3)\n",
        "tab4=tab3.astype(complex) #zamiana int z tab3 na zespolone w tab4\n",
        "tab4\n",
        "np.sqrt(tab4).imag #bierzemy czesci całkowite"
      ],
      "metadata": {
        "colab": {
          "base_uri": "https://localhost:8080/"
        },
        "id": "0JF74m14qkzY",
        "outputId": "31070475-309f-4fd6-a4cb-c7551aee841d"
      },
      "execution_count": 36,
      "outputs": [
        {
          "output_type": "stream",
          "name": "stderr",
          "text": [
            "/usr/local/lib/python3.7/dist-packages/ipykernel_launcher.py:2: RuntimeWarning: invalid value encountered in sqrt\n",
            "  \n"
          ]
        },
        {
          "output_type": "execute_result",
          "data": {
            "text/plain": [
              "array([1., 0., 0.])"
            ]
          },
          "metadata": {},
          "execution_count": 36
        }
      ]
    },
    {
      "cell_type": "code",
      "source": [
        "np.zeros((3,3))"
      ],
      "metadata": {
        "colab": {
          "base_uri": "https://localhost:8080/"
        },
        "id": "wS8bu8NUrtGG",
        "outputId": "60c65739-3fae-46eb-8142-bf71d60d53ae"
      },
      "execution_count": 37,
      "outputs": [
        {
          "output_type": "execute_result",
          "data": {
            "text/plain": [
              "array([[0., 0., 0.],\n",
              "       [0., 0., 0.],\n",
              "       [0., 0., 0.]])"
            ]
          },
          "metadata": {},
          "execution_count": 37
        }
      ]
    },
    {
      "cell_type": "code",
      "source": [
        "np.meshgrid([1,2,3],['a','b','c'])"
      ],
      "metadata": {
        "colab": {
          "base_uri": "https://localhost:8080/"
        },
        "id": "pkrdzFapsy40",
        "outputId": "b54cb970-5f07-462f-daec-c4eb77262164"
      },
      "execution_count": 41,
      "outputs": [
        {
          "output_type": "execute_result",
          "data": {
            "text/plain": [
              "[array([[1, 2, 3],\n",
              "        [1, 2, 3],\n",
              "        [1, 2, 3]]), array([['a', 'a', 'a'],\n",
              "        ['b', 'b', 'b'],\n",
              "        ['c', 'c', 'c']], dtype='<U1')]"
            ]
          },
          "metadata": {},
          "execution_count": 41
        }
      ]
    },
    {
      "cell_type": "code",
      "source": [
        "np.ones((2,2))\n",
        "np.zeros((7,7))\n",
        "from scipy.linalg import block_diag\n",
        "Mat1=block_diag(np.ones((2,2)),np.zeros((2,2)),3,(4*np.ones((2,2))-2*np.diag((1,1))))"
      ],
      "metadata": {
        "id": "ScIax_WStLMt"
      },
      "execution_count": 48,
      "outputs": []
    },
    {
      "cell_type": "code",
      "source": [
        "Mat1"
      ],
      "metadata": {
        "colab": {
          "base_uri": "https://localhost:8080/"
        },
        "id": "u0HmhacZv1w4",
        "outputId": "ecbc871d-9635-4df5-974b-0d74b3eaccb3"
      },
      "execution_count": 54,
      "outputs": [
        {
          "output_type": "execute_result",
          "data": {
            "text/plain": [
              "array([[1., 1., 0., 0., 0., 0., 0.],\n",
              "       [1., 1., 0., 0., 0., 0., 0.],\n",
              "       [0., 0., 0., 0., 0., 0., 0.],\n",
              "       [0., 0., 0., 0., 0., 0., 0.],\n",
              "       [0., 0., 0., 0., 3., 0., 0.],\n",
              "       [0., 0., 0., 0., 0., 2., 4.],\n",
              "       [0., 0., 0., 0., 0., 4., 2.]])"
            ]
          },
          "metadata": {},
          "execution_count": 54
        }
      ]
    },
    {
      "cell_type": "code",
      "source": [
        "Mat1[:,::-1] #odwraca"
      ],
      "metadata": {
        "colab": {
          "base_uri": "https://localhost:8080/"
        },
        "id": "exAMvBUKvHQe",
        "outputId": "ed50199d-2eea-4292-e20a-dfceb84f769a"
      },
      "execution_count": 49,
      "outputs": [
        {
          "output_type": "execute_result",
          "data": {
            "text/plain": [
              "array([[0., 0., 0., 0., 0., 1., 1.],\n",
              "       [0., 0., 0., 0., 0., 1., 1.],\n",
              "       [0., 0., 0., 0., 0., 0., 0.],\n",
              "       [0., 0., 0., 0., 0., 0., 0.],\n",
              "       [0., 0., 3., 0., 0., 0., 0.],\n",
              "       [4., 2., 0., 0., 0., 0., 0.],\n",
              "       [2., 4., 0., 0., 0., 0., 0.]])"
            ]
          },
          "metadata": {},
          "execution_count": 49
        }
      ]
    },
    {
      "cell_type": "code",
      "source": [
        "#zad5\n",
        "Mat1\n",
        "Mat1[0:4,0:4]\n",
        "Mat1[4::,4::]\n",
        "Mat2=block_diag(Mat1[0:4,0:4],Mat1[4::,4::])\n",
        "Mat2"
      ],
      "metadata": {
        "colab": {
          "base_uri": "https://localhost:8080/"
        },
        "id": "mZxJour2vQPs",
        "outputId": "6fc13236-f0f7-4480-b7b8-089a7446b448"
      },
      "execution_count": 63,
      "outputs": [
        {
          "output_type": "execute_result",
          "data": {
            "text/plain": [
              "array([[1., 1., 0., 0., 0., 0., 0.],\n",
              "       [1., 1., 0., 0., 0., 0., 0.],\n",
              "       [0., 0., 0., 0., 0., 0., 0.],\n",
              "       [0., 0., 0., 0., 0., 0., 0.],\n",
              "       [0., 0., 0., 0., 3., 0., 0.],\n",
              "       [0., 0., 0., 0., 0., 2., 4.],\n",
              "       [0., 0., 0., 0., 0., 4., 2.]])"
            ]
          },
          "metadata": {},
          "execution_count": 63
        }
      ]
    },
    {
      "cell_type": "code",
      "source": [
        "Mat3=Mat2[1::2,1::2]\n",
        "Mat3"
      ],
      "metadata": {
        "colab": {
          "base_uri": "https://localhost:8080/"
        },
        "id": "L7AJPURfwn0O",
        "outputId": "a762644a-42fd-4396-8ff2-f22dd481b980"
      },
      "execution_count": 65,
      "outputs": [
        {
          "output_type": "execute_result",
          "data": {
            "text/plain": [
              "array([[1., 0., 0.],\n",
              "       [0., 0., 0.],\n",
              "       [0., 0., 2.]])"
            ]
          },
          "metadata": {},
          "execution_count": 65
        }
      ]
    }
  ]
}