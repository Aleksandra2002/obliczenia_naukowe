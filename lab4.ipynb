{
  "nbformat": 4,
  "nbformat_minor": 0,
  "metadata": {
    "colab": {
      "name": "Untitled4.ipynb",
      "provenance": [],
      "include_colab_link": true
    },
    "kernelspec": {
      "name": "python3",
      "display_name": "Python 3"
    },
    "language_info": {
      "name": "python"
    }
  },
  "cells": [
    {
      "cell_type": "markdown",
      "metadata": {
        "id": "view-in-github",
        "colab_type": "text"
      },
      "source": [
        "<a href=\"https://colab.research.google.com/github/Aleksandra2002/obliczenia_naukowe/blob/main/lab4.ipynb\" target=\"_parent\"><img src=\"https://colab.research.google.com/assets/colab-badge.svg\" alt=\"Open In Colab\"/></a>"
      ]
    },
    {
      "cell_type": "markdown",
      "source": [
        "#### Zadanie 1\n",
        "Dany jest słownik student={'imie':'Jan', 'nazwisko':'kowalski','wiek':25, 'wzrost':188, 'waga':80, 'miasto':'Toruń'}\n",
        "\n",
        "* Wypisz jego elementy w postaci \"klucz -> wartość \"\n",
        "* Zmień 'wzrost' na 182 \n",
        "* Dodaj klucz 'wynik matury' z dowolną wartością\n",
        "* Usuń klucz (i wartość) 'miasto'"
      ],
      "metadata": {
        "id": "VRVE0JVybqgv"
      }
    },
    {
      "cell_type": "code",
      "source": [
        "student={'imie':'Jan', 'nazwisko':'kowalski','wiek':25, 'wzrost':188, 'waga':80, 'miasto':'Toruń'}"
      ],
      "metadata": {
        "id": "L2nHz72XbnSi"
      },
      "execution_count": null,
      "outputs": []
    },
    {
      "cell_type": "code",
      "source": [
        "for klucz in student.keys():\n",
        "  print(klucz+'->'+str(student[klucz]))"
      ],
      "metadata": {
        "colab": {
          "base_uri": "https://localhost:8080/"
        },
        "id": "jw_WIC4OdGTm",
        "outputId": "8dbd2cb5-18e6-4bad-eaf7-090e5b681176"
      },
      "execution_count": null,
      "outputs": [
        {
          "output_type": "stream",
          "name": "stdout",
          "text": [
            "imie->Jan\n",
            "nazwisko->kowalski\n",
            "wiek->25\n",
            "wzrost->188\n",
            "waga->80\n",
            "miasto->Toruń\n"
          ]
        }
      ]
    },
    {
      "cell_type": "code",
      "source": [
        "student['wzrost']=182"
      ],
      "metadata": {
        "id": "gJuZSyozd-Ln"
      },
      "execution_count": null,
      "outputs": []
    },
    {
      "cell_type": "code",
      "source": [
        "student"
      ],
      "metadata": {
        "colab": {
          "base_uri": "https://localhost:8080/"
        },
        "id": "KcF-f-gmeO52",
        "outputId": "9ba5bcd5-ff51-4c41-e2c4-1ec0f932e9fc"
      },
      "execution_count": null,
      "outputs": [
        {
          "output_type": "execute_result",
          "data": {
            "text/plain": [
              "{'imie': 'Jan',\n",
              " 'miasto': 'Toruń',\n",
              " 'nazwisko': 'kowalski',\n",
              " 'waga': 80,\n",
              " 'wiek': 25,\n",
              " 'wzrost': 182}"
            ]
          },
          "metadata": {},
          "execution_count": 8
        }
      ]
    },
    {
      "cell_type": "code",
      "source": [
        "student['wynik matury']=20"
      ],
      "metadata": {
        "id": "JLbGiXRGeTNS"
      },
      "execution_count": null,
      "outputs": []
    },
    {
      "cell_type": "code",
      "source": [
        "del student['miasto']"
      ],
      "metadata": {
        "id": "v_ltxeDkecAQ"
      },
      "execution_count": null,
      "outputs": []
    },
    {
      "cell_type": "code",
      "source": [
        "student"
      ],
      "metadata": {
        "colab": {
          "base_uri": "https://localhost:8080/"
        },
        "id": "la-EDbxberm-",
        "outputId": "296bde50-2f88-401e-912d-cc30cb3306bb"
      },
      "execution_count": null,
      "outputs": [
        {
          "output_type": "execute_result",
          "data": {
            "text/plain": [
              "{'imie': 'Jan',\n",
              " 'nazwisko': 'kowalski',\n",
              " 'waga': 80,\n",
              " 'wiek': 25,\n",
              " 'wynik matury': 20,\n",
              " 'wzrost': 182}"
            ]
          },
          "metadata": {},
          "execution_count": 11
        }
      ]
    },
    {
      "cell_type": "code",
      "source": [
        ""
      ],
      "metadata": {
        "id": "7eGQB6rOetHg"
      },
      "execution_count": null,
      "outputs": []
    },
    {
      "cell_type": "code",
      "source": [
        ""
      ],
      "metadata": {
        "id": "-hMsykpme2uE"
      },
      "execution_count": null,
      "outputs": []
    },
    {
      "cell_type": "markdown",
      "source": [
        "####Zadanie 2\n",
        "Dane są dwie listy równej długości\n",
        "\n",
        "klucze=['klucz1','klucz2','inny klucz', 'test']\n",
        "wartosci=[1,2,5,1]\n",
        "Utwórz w sposób zautomatyzowany (nie ręcznie) słownik, który kolejnym kluczom przypisze kolejne wartości."
      ],
      "metadata": {
        "id": "Mbs9JRESe3aH"
      }
    },
    {
      "cell_type": "code",
      "source": [
        "dict ={}\n",
        "klucze = ['klucz1','klucz2','inny klucz','test']\n",
        "wartosci = [1,2,5,1]\n",
        "lista1= zip(klucze,wartosci)\n",
        "list(lista1)\n",
        "#dict(lista1)"
      ],
      "metadata": {
        "id": "Irf6Ra8He3vW",
        "outputId": "a844e3e4-056b-4f17-8eb2-e8cca8d9195f",
        "colab": {
          "base_uri": "https://localhost:8080/"
        }
      },
      "execution_count": 30,
      "outputs": [
        {
          "output_type": "execute_result",
          "data": {
            "text/plain": [
              "[('klucz1', 1), ('klucz2', 2), ('inny klucz', 5), ('test', 1)]"
            ]
          },
          "metadata": {},
          "execution_count": 30
        }
      ]
    },
    {
      "cell_type": "code",
      "source": [
        "#rekurencja\n",
        "def rek1(n):\n",
        "  i=0\n",
        "  if n == 0:\n",
        "    return 1\n",
        "  else:\n",
        "    return 2*rek1(n-1)\n",
        "print(rek1(5))\n",
        "    "
      ],
      "metadata": {
        "id": "E5Q81J10gmV-",
        "outputId": "de4c53c4-161b-4178-d349-11e7a184307f",
        "colab": {
          "base_uri": "https://localhost:8080/"
        }
      },
      "execution_count": 35,
      "outputs": [
        {
          "output_type": "stream",
          "name": "stdout",
          "text": [
            "32\n"
          ]
        }
      ]
    },
    {
      "cell_type": "markdown",
      "source": [
        "#SYMPY\n",
        "bilblioteka pracująca na symbolach"
      ],
      "metadata": {
        "id": "sNwVeZRciZcj"
      }
    },
    {
      "cell_type": "code",
      "source": [
        "from sympy import *\n",
        "sin(30)"
      ],
      "metadata": {
        "id": "O46ZxE4jidBy",
        "outputId": "0f3b08ff-f664-40d4-f1d6-ebe2aa8e4a3c",
        "colab": {
          "base_uri": "https://localhost:8080/",
          "height": 38
        }
      },
      "execution_count": 37,
      "outputs": [
        {
          "output_type": "execute_result",
          "data": {
            "text/latex": "$\\displaystyle \\sin{\\left(30 \\right)}$",
            "text/plain": [
              "sin(30)"
            ]
          },
          "metadata": {},
          "execution_count": 37
        }
      ]
    },
    {
      "cell_type": "code",
      "source": [
        "import math\n",
        "math.sin(30)"
      ],
      "metadata": {
        "id": "OjyG9dDZjF1W",
        "outputId": "5266348e-14fe-4ca1-d433-e6d367b5105c",
        "colab": {
          "base_uri": "https://localhost:8080/"
        }
      },
      "execution_count": 38,
      "outputs": [
        {
          "output_type": "execute_result",
          "data": {
            "text/plain": [
              "-0.9880316240928618"
            ]
          },
          "metadata": {},
          "execution_count": 38
        }
      ]
    },
    {
      "cell_type": "code",
      "source": [
        "x,y,z= symbols('x,y,z')\n",
        "x"
      ],
      "metadata": {
        "id": "_ueQbKRQjLXn",
        "outputId": "e441f966-3056-491b-d550-c4064fa76361",
        "colab": {
          "base_uri": "https://localhost:8080/",
          "height": 39
        }
      },
      "execution_count": 41,
      "outputs": [
        {
          "output_type": "execute_result",
          "data": {
            "text/latex": "$\\displaystyle x$",
            "text/plain": [
              "x"
            ]
          },
          "metadata": {},
          "execution_count": 41
        }
      ]
    },
    {
      "cell_type": "code",
      "source": [
        "sin(x)**2+cos(x)**2"
      ],
      "metadata": {
        "id": "Y9Mseq1Fjb6Y",
        "outputId": "40227db0-8e54-4d31-d5e9-246d54d15d8f",
        "colab": {
          "base_uri": "https://localhost:8080/",
          "height": 39
        }
      },
      "execution_count": 56,
      "outputs": [
        {
          "output_type": "execute_result",
          "data": {
            "text/latex": "$\\displaystyle \\sin^{2}{\\left(x \\right)} + \\cos^{2}{\\left(x \\right)}$",
            "text/plain": [
              "sin(x)**2 + cos(x)**2"
            ]
          },
          "metadata": {},
          "execution_count": 56
        }
      ]
    },
    {
      "cell_type": "code",
      "source": [
        "simplify(_)"
      ],
      "metadata": {
        "id": "e7xnKLfJj56v",
        "outputId": "09a3566f-5301-4630-a20b-20c9bc534f36",
        "colab": {
          "base_uri": "https://localhost:8080/",
          "height": 38
        }
      },
      "execution_count": 57,
      "outputs": [
        {
          "output_type": "execute_result",
          "data": {
            "text/latex": "$\\displaystyle 1$",
            "text/plain": [
              "1"
            ]
          },
          "metadata": {},
          "execution_count": 57
        }
      ]
    },
    {
      "cell_type": "code",
      "source": [
        "solve(2*x-5)"
      ],
      "metadata": {
        "id": "_8p0urG6koT4",
        "outputId": "5cb3f1f1-57bb-4c7b-da2c-6e5f2d478878",
        "colab": {
          "base_uri": "https://localhost:8080/"
        }
      },
      "execution_count": 60,
      "outputs": [
        {
          "output_type": "execute_result",
          "data": {
            "text/plain": [
              "[5/2]"
            ]
          },
          "metadata": {},
          "execution_count": 60
        }
      ]
    },
    {
      "cell_type": "code",
      "source": [
        "wyr=x**2+3\n",
        "wyr.subs(x,2) #subs liczy"
      ],
      "metadata": {
        "id": "stvCMHgZlWEd",
        "outputId": "33a3d986-2d8d-4ebd-b375-51722471039f",
        "colab": {
          "base_uri": "https://localhost:8080/",
          "height": 38
        }
      },
      "execution_count": 63,
      "outputs": [
        {
          "output_type": "execute_result",
          "data": {
            "text/latex": "$\\displaystyle 7$",
            "text/plain": [
              "7"
            ]
          },
          "metadata": {},
          "execution_count": 63
        }
      ]
    },
    {
      "cell_type": "code",
      "source": [
        "sin(30).evalf() #niesymboliczny wynik"
      ],
      "metadata": {
        "id": "_Q4hjxZPlqU1",
        "outputId": "1e7e4653-4e11-4050-e90e-919b3f22dc7d",
        "colab": {
          "base_uri": "https://localhost:8080/",
          "height": 38
        }
      },
      "execution_count": 62,
      "outputs": [
        {
          "output_type": "execute_result",
          "data": {
            "text/latex": "$\\displaystyle -0.988031624092862$",
            "text/plain": [
              "-0.988031624092862"
            ]
          },
          "metadata": {},
          "execution_count": 62
        }
      ]
    },
    {
      "cell_type": "code",
      "source": [
        "#pochodna\n",
        "wyr.diff(x)"
      ],
      "metadata": {
        "id": "gG1sEQkZlud1",
        "outputId": "01c9c79e-80f4-48cb-f61a-e2643a833877",
        "colab": {
          "base_uri": "https://localhost:8080/",
          "height": 39
        }
      },
      "execution_count": 64,
      "outputs": [
        {
          "output_type": "execute_result",
          "data": {
            "text/latex": "$\\displaystyle 2 x$",
            "text/plain": [
              "2*x"
            ]
          },
          "metadata": {},
          "execution_count": 64
        }
      ]
    },
    {
      "cell_type": "code",
      "source": [
        "#różniczka\n",
        "f=symbols('f',cls = Function)\n",
        "g= Function('g')\n",
        "ode = f(x).diff(x)-f(x)\n",
        "dsolve(ode) #rozwiąż równanie różniczkowe ode"
      ],
      "metadata": {
        "id": "emZ1nsMtmBZf",
        "outputId": "ec42b6ed-6b5e-4616-d3c5-26d786b9b176",
        "colab": {
          "base_uri": "https://localhost:8080/",
          "height": 39
        }
      },
      "execution_count": 73,
      "outputs": [
        {
          "output_type": "execute_result",
          "data": {
            "text/latex": "$\\displaystyle f{\\left(x \\right)} = C_{1} e^{x}$",
            "text/plain": [
              "Eq(f(x), C1*exp(x))"
            ]
          },
          "metadata": {},
          "execution_count": 73
        }
      ]
    },
    {
      "cell_type": "code",
      "source": [
        "#całka\n",
        "integrate(wyr,y) #można dla y = liczba"
      ],
      "metadata": {
        "id": "QUpy8q4lmyZO",
        "outputId": "4d556273-489c-4259-f30d-b5d0c0fe5d1e",
        "colab": {
          "base_uri": "https://localhost:8080/",
          "height": 39
        }
      },
      "execution_count": 76,
      "outputs": [
        {
          "output_type": "execute_result",
          "data": {
            "text/latex": "$\\displaystyle y \\left(x^{2} + 3\\right)$",
            "text/plain": [
              "y*(x**2 + 3)"
            ]
          },
          "metadata": {},
          "execution_count": 76
        }
      ]
    },
    {
      "cell_type": "code",
      "source": [
        "plot(wyr,(x,0,5)) #rysowanie wykresów (zmienna, na przedziele)"
      ],
      "metadata": {
        "id": "eA_px9RznNDG",
        "outputId": "e5ac4a85-85e2-48c7-92af-26f4f34673b8",
        "colab": {
          "base_uri": "https://localhost:8080/",
          "height": 314
        }
      },
      "execution_count": 79,
      "outputs": [
        {
          "output_type": "display_data",
          "data": {
            "image/png": "[encoded data removed]",
            "text/plain": [
              "<Figure size 432x288 with 1 Axes>"
            ]
          },
          "metadata": {
            "needs_background": "light"
          }
        },
        {
          "output_type": "execute_result",
          "data": {
            "text/plain": [
              "<sympy.plotting.plot.Plot at 0x7f71504be950>"
            ]
          },
          "metadata": {},
          "execution_count": 79
        }
      ]
    },
    {
      "cell_type": "code",
      "source": [
        "#GRANICE\n",
        "#f - funkcja \n",
        "#x- zmienna po której chcemy liczyć pochodną\n",
        "#a - punkt w ktorym szukamy pochodnej\n",
        "#pochodna(f,x,a) - wartość pochodnej w punkcie a\n",
        "def pochodna (f,x,a):\n",
        "  h = symbols ('h')\n",
        "  return limit ((f.subs(x,a+h)-f.subs(x,a))/h,h,0)\n",
        "pochodna(y**2,y,1)"
      ],
      "metadata": {
        "id": "OOlU6rWioAqw",
        "outputId": "4ff19b90-c65f-4177-fc33-a95000a7bd73",
        "colab": {
          "base_uri": "https://localhost:8080/",
          "height": 38
        }
      },
      "execution_count": 104,
      "outputs": [
        {
          "output_type": "execute_result",
          "data": {
            "text/latex": "$\\displaystyle 2$",
            "text/plain": [
              "2"
            ]
          },
          "metadata": {},
          "execution_count": 104
        }
      ]
    }
  ]
}