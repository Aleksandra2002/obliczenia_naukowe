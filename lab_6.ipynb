{
  "nbformat": 4,
  "nbformat_minor": 0,
  "metadata": {
    "colab": {
      "name": "Untitled4.ipynb",
      "provenance": [],
      "authorship_tag": "ABX9TyNwQPIO7u4u25Z3MgvF7FIf",
      "include_colab_link": true
    },
    "kernelspec": {
      "name": "python3",
      "display_name": "Python 3"
    },
    "language_info": {
      "name": "python"
    }
  },
  "cells": [
    {
      "cell_type": "markdown",
      "metadata": {
        "id": "view-in-github",
        "colab_type": "text"
      },
      "source": [
        "<a href=\"https://colab.research.google.com/github/Aleksandra2002/obliczenia_naukowe/blob/main/lab_6.ipynb\" target=\"_parent\"><img src=\"https://colab.research.google.com/assets/colab-badge.svg\" alt=\"Open In Colab\"/></a>"
      ]
    },
    {
      "cell_type": "markdown",
      "source": [
        "## Algebra liniowa w Pythonie\n",
        "* ```np.linalg.inv ``` - odwrotność macierzy\n",
        "* ```np.linalg.det``` - wyznacznik\n",
        "* ```np.linalg.eig``` - wartości i wektory własne\n",
        "* ```np.dot``` - iloczyn macierzowy\n",
        "* ```np.inner``` - iloczyn skalarny\n",
        "* ```np.cross``` - iloczyn wektorowy\n",
        "\n",
        "* ```np.linalg.norm``` - norma macierzy lub wektora"
      ],
      "metadata": {
        "id": "cyo0AKkOYN-S"
      }
    },
    {
      "cell_type": "code",
      "execution_count": 14,
      "metadata": {
        "colab": {
          "base_uri": "https://localhost:8080/"
        },
        "id": "pz3KNLXXX4ID",
        "outputId": "32414d5e-6bb9-42b0-bb7c-fe8fd2400514"
      },
      "outputs": [
        {
          "output_type": "stream",
          "name": "stdout",
          "text": [
            "The slowest run took 5.70 times longer than the fastest. This could mean that an intermediate result is being cached.\n",
            "10000 loops, best of 5: 32.5 µs per loop\n"
          ]
        },
        {
          "output_type": "execute_result",
          "data": {
            "text/plain": [
              "tuple"
            ]
          },
          "metadata": {},
          "execution_count": 14
        }
      ],
      "source": [
        "import numpy as np\n",
        "A=np.random.random((5,5))\n",
        "B =np.linalg.eig(A)\n",
        "%timeit np.linalg.eig(A) #ile czasu się wykonuje to polecenie\n",
        "type(B)"
      ]
    },
    {
      "cell_type": "code",
      "source": [
        "np.max(B[0])"
      ],
      "metadata": {
        "colab": {
          "base_uri": "https://localhost:8080/"
        },
        "id": "GA0qajeUaRzT",
        "outputId": "8106ea32-1685-4274-db76-acc10e223f32"
      },
      "execution_count": 17,
      "outputs": [
        {
          "output_type": "execute_result",
          "data": {
            "text/plain": [
              "(2.868021933923659+0j)"
            ]
          },
          "metadata": {},
          "execution_count": 17
        }
      ]
    },
    {
      "cell_type": "code",
      "source": [
        "mat1= np.array([[2,0],[1,1]])\n",
        "wyz= np.linalg.det(mat1)\n",
        "mat2 = np.dot(mat1,np.dot(np.diag([1,2]),np.linalg.inv(mat1)))"
      ],
      "metadata": {
        "id": "YIdHjijXatMm"
      },
      "execution_count": 27,
      "outputs": []
    },
    {
      "cell_type": "code",
      "source": [
        "np.linalg.eig(mat2)"
      ],
      "metadata": {
        "colab": {
          "base_uri": "https://localhost:8080/"
        },
        "id": "EFXbPyntcXcG",
        "outputId": "9611153c-232f-494a-9da1-3f740d237b70"
      },
      "execution_count": 28,
      "outputs": [
        {
          "output_type": "execute_result",
          "data": {
            "text/plain": [
              "(array([2., 1.]), array([[0.        , 0.89442719],\n",
              "        [1.        , 0.4472136 ]]))"
            ]
          },
          "metadata": {},
          "execution_count": 28
        }
      ]
    },
    {
      "cell_type": "code",
      "source": [
        "mat1 @ mat1 #mnożenie macierzy"
      ],
      "metadata": {
        "colab": {
          "base_uri": "https://localhost:8080/"
        },
        "id": "ANmbrvcZcglp",
        "outputId": "7ddea17b-1a67-4951-833b-cc5f2a0679d5"
      },
      "execution_count": 29,
      "outputs": [
        {
          "output_type": "execute_result",
          "data": {
            "text/plain": [
              "array([[4, 0],\n",
              "       [3, 1]])"
            ]
          },
          "metadata": {},
          "execution_count": 29
        }
      ]
    },
    {
      "cell_type": "code",
      "source": [
        "np.dot(mat1,mat1)"
      ],
      "metadata": {
        "colab": {
          "base_uri": "https://localhost:8080/"
        },
        "id": "howwjK0vclAI",
        "outputId": "e0fc849b-4d4b-41be-8b91-27446fa4e62d"
      },
      "execution_count": 31,
      "outputs": [
        {
          "output_type": "execute_result",
          "data": {
            "text/plain": [
              "array([[4, 0],\n",
              "       [3, 1]])"
            ]
          },
          "metadata": {},
          "execution_count": 31
        }
      ]
    },
    {
      "cell_type": "code",
      "source": [
        "#SVD - rozklad macierzy\n",
        "SVD = np.linalg.svd(A) #macierz(ortogonalna), przekątna (diagonalna), macierz(ortogonalna)"
      ],
      "metadata": {
        "id": "neF_xofbdIXO"
      },
      "execution_count": 34,
      "outputs": []
    },
    {
      "cell_type": "code",
      "source": [
        "SVD[0]@ np.diag(SVD[1]) @SVD[2] - A"
      ],
      "metadata": {
        "colab": {
          "base_uri": "https://localhost:8080/"
        },
        "id": "GTN9RmVQdwSi",
        "outputId": "54b1bce7-eec0-4fc4-ffaf-c70bda1fc163"
      },
      "execution_count": 36,
      "outputs": [
        {
          "output_type": "execute_result",
          "data": {
            "text/plain": [
              "array([[ 2.77555756e-16,  5.55111512e-16,  6.66133815e-16,\n",
              "         1.24900090e-16,  7.77156117e-16],\n",
              "       [ 6.66133815e-16,  6.66133815e-16,  5.55111512e-16,\n",
              "         2.22044605e-16,  4.44089210e-16],\n",
              "       [ 4.44089210e-16,  3.33066907e-16,  3.33066907e-16,\n",
              "        -5.55111512e-17,  4.44089210e-16],\n",
              "       [ 4.44089210e-16,  4.99600361e-16,  1.11022302e-16,\n",
              "         4.44089210e-16,  3.33066907e-16],\n",
              "       [ 1.11022302e-16,  2.63677968e-16,  2.77555756e-16,\n",
              "         1.66533454e-16,  1.92554306e-16]])"
            ]
          },
          "metadata": {},
          "execution_count": 36
        }
      ]
    },
    {
      "cell_type": "code",
      "source": [
        "(SVD[0] @ SVD[0].T).round(0)"
      ],
      "metadata": {
        "colab": {
          "base_uri": "https://localhost:8080/"
        },
        "id": "9-EpOb3xeaw8",
        "outputId": "cd86ad0e-3f25-4efb-db98-6d32e3bd2192"
      },
      "execution_count": 39,
      "outputs": [
        {
          "output_type": "execute_result",
          "data": {
            "text/plain": [
              "array([[ 1.,  0.,  0., -0.,  0.],\n",
              "       [ 0.,  1.,  0., -0.,  0.],\n",
              "       [ 0.,  0.,  1., -0., -0.],\n",
              "       [-0., -0., -0.,  1.,  0.],\n",
              "       [ 0.,  0., -0.,  0.,  1.]])"
            ]
          },
          "metadata": {},
          "execution_count": 39
        }
      ]
    },
    {
      "cell_type": "code",
      "source": [
        "m2 = np.array([[1,2,3],[1,2,1],[0,1,0]])\n",
        "np.linalg.eig(m2)"
      ],
      "metadata": {
        "colab": {
          "base_uri": "https://localhost:8080/"
        },
        "id": "j9kzSaIKfILV",
        "outputId": "86b39107-7f01-4fb5-80ec-37810b243e34"
      },
      "execution_count": 41,
      "outputs": [
        {
          "output_type": "execute_result",
          "data": {
            "text/plain": [
              "(array([ 3.45667834+0.j        , -0.22833917+0.72556968j,\n",
              "        -0.22833917-0.72556968j]),\n",
              " array([[ 0.74635087+0.j        , -0.85289345+0.j        ,\n",
              "         -0.85289345-0.j        ],\n",
              "        [ 0.63933662+0.j        ,  0.21479077+0.23188188j,\n",
              "          0.21479077-0.23188188j],\n",
              "        [ 0.18495693+0.j        ,  0.20602029-0.36086579j,\n",
              "          0.20602029+0.36086579j]]))"
            ]
          },
          "metadata": {},
          "execution_count": 41
        }
      ]
    },
    {
      "cell_type": "code",
      "source": [
        " np.linalg.svd(m2)"
      ],
      "metadata": {
        "colab": {
          "base_uri": "https://localhost:8080/"
        },
        "id": "8i-6mG17faqd",
        "outputId": "f9a9948c-19ec-4dd8-c76b-aea90a45e8ae"
      },
      "execution_count": 43,
      "outputs": [
        {
          "output_type": "execute_result",
          "data": {
            "text/plain": [
              "(array([[-0.8384388 , -0.50673863, -0.20058996],\n",
              "        [-0.52438113,  0.6498237 ,  0.55023049],\n",
              "        [-0.14847494,  0.56652018, -0.81056158]]),\n",
              " array([4.39972444, 1.22684012, 0.37052417]),\n",
              " array([[-0.3097512 , -0.65324882, -0.69088362],\n",
              "        [ 0.11662894,  0.69502969, -0.70945854],\n",
              "        [ 0.94363758, -0.30033266, -0.13909856]]))"
            ]
          },
          "metadata": {},
          "execution_count": 43
        }
      ]
    },
    {
      "cell_type": "code",
      "source": [
        "m3 = m2[0:2]\n",
        "m4 =np.linalg.svd(m3)\n",
        "m4\n"
      ],
      "metadata": {
        "colab": {
          "base_uri": "https://localhost:8080/"
        },
        "id": "_po0M5Uwf26a",
        "outputId": "c38e9063-0f25-458e-8cfb-ef615008e26e"
      },
      "execution_count": 63,
      "outputs": [
        {
          "output_type": "execute_result",
          "data": {
            "text/plain": [
              "(array([[-0.85065081, -0.52573111],\n",
              "        [-0.52573111,  0.85065081]]),\n",
              " array([4.3525018, 1.0274863]),\n",
              " array([[-3.16227766e-01, -6.32455532e-01, -7.07106781e-01],\n",
              "        [ 3.16227766e-01,  6.32455532e-01, -7.07106781e-01],\n",
              "        [-8.94427191e-01,  4.47213595e-01, -2.22044605e-16]]))"
            ]
          },
          "metadata": {},
          "execution_count": 63
        }
      ]
    },
    {
      "cell_type": "code",
      "source": [
        "sigma = np.concatenate([np.diag(m4[1]),np.zeros((2,1))],axis=1)"
      ],
      "metadata": {
        "id": "oaYnZ80dgqo1"
      },
      "execution_count": 64,
      "outputs": []
    },
    {
      "cell_type": "code",
      "source": [
        "m4[0] @ sigma @ m4[2]"
      ],
      "metadata": {
        "colab": {
          "base_uri": "https://localhost:8080/"
        },
        "id": "GCzmnCFkiDtT",
        "outputId": "5b57e300-0d07-4c69-add6-cba777d5ea33"
      },
      "execution_count": 66,
      "outputs": [
        {
          "output_type": "execute_result",
          "data": {
            "text/plain": [
              "array([[1., 2., 3.],\n",
              "       [1., 2., 1.]])"
            ]
          },
          "metadata": {},
          "execution_count": 66
        }
      ]
    },
    {
      "cell_type": "code",
      "source": [
        "np.linalg.matrix_power(m2,20) #podnoszenie macierzy do potęgi 20tej"
      ],
      "metadata": {
        "colab": {
          "base_uri": "https://localhost:8080/"
        },
        "id": "H9J_efRAi4gb",
        "outputId": "16885f19-a137-4b78-adc8-8c0e08878cb9"
      },
      "execution_count": 71,
      "outputs": [
        {
          "output_type": "execute_result",
          "data": {
            "text/plain": [
              "array([[16968908951, 41687151125, 26786952325],\n",
              "       [14535850675, 35709909551, 22946150525],\n",
              "       [ 4205149925, 10330700750,  6638208201]])"
            ]
          },
          "metadata": {},
          "execution_count": 71
        }
      ]
    },
    {
      "cell_type": "code",
      "source": [
        "rozsvd =np.linalg.eig(m2)\n",
        "JA = np.diag(rozsvd[0])\n",
        "P=rozsvd[1]\n",
        "(P @ JA**20 @ np.linalg.inv(P)).round(0)"
      ],
      "metadata": {
        "colab": {
          "base_uri": "https://localhost:8080/"
        },
        "id": "4a_wjhoQkcHC",
        "outputId": "ce4d7fae-641e-4f1b-fb1a-4ad81725940e"
      },
      "execution_count": 82,
      "outputs": [
        {
          "output_type": "execute_result",
          "data": {
            "text/plain": [
              "array([[1.69689090e+10-0.j, 4.16871511e+10+0.j, 2.67869523e+10+0.j],\n",
              "       [1.45358507e+10-0.j, 3.57099096e+10+0.j, 2.29461505e+10-0.j],\n",
              "       [4.20514992e+09-0.j, 1.03307008e+10+0.j, 6.63820820e+09+0.j]])"
            ]
          },
          "metadata": {},
          "execution_count": 82
        }
      ]
    },
    {
      "cell_type": "code",
      "source": [
        "#ROZWIĄZYWANIE układów równań\n",
        "np.linalg.cond(m2) #mówi jak nasza macierz jest czuła na błąd wyniku - WSKAŹNIK UWARUNKOWANIA\n",
        "#np.linalg.solve() #rozwiązuje równania"
      ],
      "metadata": {
        "colab": {
          "base_uri": "https://localhost:8080/"
        },
        "id": "_Y_4aSDlmXtO",
        "outputId": "1e894256-1fbb-422a-f0fd-a93da5ac107e"
      },
      "execution_count": 86,
      "outputs": [
        {
          "output_type": "execute_result",
          "data": {
            "text/plain": [
              "11.87432495287239"
            ]
          },
          "metadata": {},
          "execution_count": 86
        }
      ]
    },
    {
      "cell_type": "code",
      "source": [
        "A= np.array([[1,0,2],[3,2,1],[1,1,1]])\n",
        "b1= np.array([20.001,-9.999,100.00001])\n",
        "b2=np.array([20,-10,100])\n",
        "np.linalg.cond(A)"
      ],
      "metadata": {
        "colab": {
          "base_uri": "https://localhost:8080/"
        },
        "id": "bYG3bO5nnA49",
        "outputId": "dafc427c-c150-4c2a-a845-41efa9c796c5"
      },
      "execution_count": 106,
      "outputs": [
        {
          "output_type": "execute_result",
          "data": {
            "text/plain": [
              "10.617346008950063"
            ]
          },
          "metadata": {},
          "execution_count": 106
        }
      ]
    },
    {
      "cell_type": "code",
      "source": [
        "np.linalg.solve(A,b1)"
      ],
      "metadata": {
        "colab": {
          "base_uri": "https://localhost:8080/"
        },
        "id": "5itCi8GvoR-7",
        "outputId": "5f40d8b5-b51f-460b-e0ea-8a552f3d34e0"
      },
      "execution_count": 105,
      "outputs": [
        {
          "output_type": "execute_result",
          "data": {
            "text/plain": [
              "array([-133.33234667,  156.66568333,   76.66667333])"
            ]
          },
          "metadata": {},
          "execution_count": 105
        }
      ]
    },
    {
      "cell_type": "code",
      "source": [
        "np.linalg.solve(A,b2)"
      ],
      "metadata": {
        "colab": {
          "base_uri": "https://localhost:8080/"
        },
        "id": "Myi1-i0an3ud",
        "outputId": "65e07337-d303-4d3c-a882-846ad8126882"
      },
      "execution_count": 107,
      "outputs": [
        {
          "output_type": "execute_result",
          "data": {
            "text/plain": [
              "array([-133.33333333,  156.66666667,   76.66666667])"
            ]
          },
          "metadata": {},
          "execution_count": 107
        }
      ]
    }
  ]
}