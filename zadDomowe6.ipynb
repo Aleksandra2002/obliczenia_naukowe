{
  "nbformat": 4,
  "nbformat_minor": 0,
  "metadata": {
    "colab": {
      "name": "zadDom6.ipynb",
      "provenance": [],
      "authorship_tag": "ABX9TyOLm2oau9fPchXs1G2RBthA",
      "include_colab_link": true
    },
    "kernelspec": {
      "name": "python3",
      "display_name": "Python 3"
    },
    "language_info": {
      "name": "python"
    }
  },
  "cells": [
    {
      "cell_type": "markdown",
      "metadata": {
        "id": "view-in-github",
        "colab_type": "text"
      },
      "source": [
        "<a href=\"https://colab.research.google.com/github/Aleksandra2002/obliczenia_naukowe/blob/main/zadDomowe6.ipynb\" target=\"_parent\"><img src=\"https://colab.research.google.com/assets/colab-badge.svg\" alt=\"Open In Colab\"/></a>"
      ]
    },
    {
      "cell_type": "markdown",
      "source": [
        "### Zadanie domowe\n",
        "Stowrzyć macierz 3x3 o współczynniku uwarunkowania co najmniej $10000$ i sprawdzić błąd rozwiązania dla b1 i b2"
      ],
      "metadata": {
        "id": "gM34e4djtSuU"
      }
    },
    {
      "cell_type": "code",
      "execution_count": 36,
      "metadata": {
        "colab": {
          "base_uri": "https://localhost:8080/"
        },
        "id": "LmL9mnd_s9eW",
        "outputId": "163c76e7-8ed3-4de3-fe81-85b7bc8faee5"
      },
      "outputs": [
        {
          "output_type": "execute_result",
          "data": {
            "text/plain": [
              "array([1.85782035e-09, 1.62030487e-11, 1.14669156e-07])"
            ]
          },
          "metadata": {},
          "execution_count": 36
        }
      ],
      "source": [
        "import numpy as np\n",
        "A= np.array([[61,95555555,-22222],[-333333,-99999999,9],[55555555,10,900000]])\n",
        "b1= np.array([20.001,-9.999,100.00001])\n",
        "b2=np.array([20,-10,100])\n",
        "np.linalg.cond(A)\n",
        "A1 =np.linalg.solve(A,b1)\n",
        "A2 =np.linalg.solve(A,b2)\n",
        "abs(A1-A2)"
      ]
    }
  ]
}