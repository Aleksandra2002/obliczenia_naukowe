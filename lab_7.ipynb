{
  "nbformat": 4,
  "nbformat_minor": 0,
  "metadata": {
    "colab": {
      "name": "Untitled5.ipynb",
      "provenance": [],
      "authorship_tag": "ABX9TyN37isWEPWNzFltMq8IOajR",
      "include_colab_link": true
    },
    "kernelspec": {
      "name": "python3",
      "display_name": "Python 3"
    },
    "language_info": {
      "name": "python"
    }
  },
  "cells": [
    {
      "cell_type": "markdown",
      "metadata": {
        "id": "view-in-github",
        "colab_type": "text"
      },
      "source": [
        "<a href=\"https://colab.research.google.com/github/Aleksandra2002/obliczenia_naukowe/blob/main/lab_7.ipynb\" target=\"_parent\"><img src=\"https://colab.research.google.com/assets/colab-badge.svg\" alt=\"Open In Colab\"/></a>"
      ]
    },
    {
      "cell_type": "markdown",
      "source": [
        "#### Zadanie dla chętnych (łańcuch Markowa)\n",
        "$P=\\begin{bmatrix} 1&0&0&0&0&0\\\\0&1&0&0&0&0\\\\p&q&r&0&0&0\\\\p&0&q&r&0&0\\\\p&0&0&q&r&0\\\\p&0&0&0&q&r \\end{bmatrix}$\n",
        "\n",
        "\n",
        "\n",
        "Macierz P opisuje prawdopodobieństwa przejść między pięcioma stanami: wyrzucony ze studiów, ukończył studia, po 4 roku, po 3 roku, po 2 roku, po 1 roku. (np. ze stanu nr 6 do stanu nr 5 prawdop. = q). Przyjmijmy p=0.2, q=0.7, r=0.1.\n",
        "\n",
        "* Oblicz prawdopodobieństwo, że jeśli ukończyłeś pierwszy rok, to ukończysz całe studia.\n",
        "\n",
        "* Zauważ w macierzy $P$ blokową strukturę: $P=\\begin{bmatrix} Id & 0 \\\\ R & Q \\end{bmatrix}$. Porównaj poprzedni wynik z wynikiem mnożenia $(Id-Q)^{-1} R$."
      ],
      "metadata": {
        "id": "BdhajOdbY09l"
      }
    },
    {
      "cell_type": "code",
      "execution_count": 4,
      "metadata": {
        "id": "s4pGpDrYY0K6"
      },
      "outputs": [],
      "source": [
        "#absorbujące łańcuchy \n",
        "import numpy as np\n",
        "p=0.1\n",
        "q=0.8\n",
        "r=0.1\n",
        "P=np.array([[1,0,0,0,0,0],[0,1,0,0,0,0],[p,q,r,0,0,0],[p,0,q,r,0,0],[p,0,0,q,r,0],[p,0,0,0,q,r]])"
      ]
    },
    {
      "cell_type": "code",
      "source": [
        "import matplotlib.pyplot as plt\n",
        "import matplotlib as mpl\n",
        "%matplotlib inline"
      ],
      "metadata": {
        "id": "ELFP6-8fZgyq"
      },
      "execution_count": 2,
      "outputs": []
    },
    {
      "cell_type": "code",
      "source": [
        "fig=plt.acorr\n",
        "#domyślnie łączy, o - kropka, x - "
      ],
      "metadata": {
        "id": "1_wAB57obXXk"
      },
      "execution_count": 5,
      "outputs": []
    },
    {
      "cell_type": "code",
      "source": [
        "x=np.linspace(0,3,10)\n",
        "y=x**2\n",
        "ax1.plot(x,y,linestyle='-.')\n",
        "fig"
      ],
      "metadata": {
        "id": "7uJII1SCcRrQ"
      },
      "execution_count": null,
      "outputs": []
    },
    {
      "cell_type": "code",
      "source": [
        "#dwa obok siebie\n",
        "fig2, axes2 = plt.suplots(1,2)\n",
        "ax21,ax22=axes2\n",
        "ax22.plot(x,y)"
      ],
      "metadata": {
        "id": "NZIwE_Apc6ur"
      },
      "execution_count": null,
      "outputs": []
    },
    {
      "cell_type": "code",
      "source": [
        "ax22.legend() #tworzy legendę, w nawiasie można argumenty robić, domyślnie przezroczysta, w ramce\n",
        "ax22.drif(True) #żeby były kratki na wykresie\n",
        "?plt.subplots #pomoc"
      ],
      "metadata": {
        "id": "exsicLBaddIf"
      },
      "execution_count": 7,
      "outputs": []
    },
    {
      "cell_type": "code",
      "source": [
        "fig,ax=plt.suplots()\n",
        "error=np.random.random(100)\n",
        "x=np.linspace(0,1,100)\n",
        "y=x**2\n",
        "ax.plot(x,y,color='red')\n",
        "ax.fill_between()"
      ],
      "metadata": {
        "id": "sBHjaAhBfUsz"
      },
      "execution_count": null,
      "outputs": []
    },
    {
      "cell_type": "code",
      "source": [
        "ax=fig.add_axes()\n",
        "fig =plt.figure(figsize=(4,4),facecolor='red')\n",
        "fig,ax=plt.subplots()\n",
        "x=np.linspace(-1,4,100)\n",
        "y=x**3-4*x**2+3*x-4\n",
        "\n",
        "ax.plot(x,y,label='y')\n"
      ],
      "metadata": {
        "colab": {
          "base_uri": "https://localhost:8080/",
          "height": 300
        },
        "id": "WktV1WblhqZz",
        "outputId": "3f254366-9636-4cc5-948c-086e842d80eb"
      },
      "execution_count": 28,
      "outputs": [
        {
          "output_type": "execute_result",
          "data": {
            "text/plain": [
              "[<matplotlib.lines.Line2D at 0x7f74cb083f90>]"
            ]
          },
          "metadata": {},
          "execution_count": 28
        },
        {
          "output_type": "display_data",
          "data": {
            "text/plain": [
              "<Figure size 288x288 with 0 Axes>"
            ]
          },
          "metadata": {}
        },
        {
          "output_type": "display_data",
          "data": {
            "text/plain": [
              "<Figure size 432x288 with 1 Axes>"
            ],
            "image/png": "[encoded data removed]"
          },
          "metadata": {
            "needs_background": "light"
          }
        }
      ]
    },
    {
      "cell_type": "code",
      "source": [
        "#ekstrema\n",
        "import sympy as sp\n",
        "x=sp.symbols('x')\n",
        "f=x**3-4*x**2+3*x-4\n",
        "D2f=f.diff(x,2)\n",
        "extrema = sp.solve(f.diff(x))\n",
        "#alpha - przezroczystosc\n",
        "fig,ax = plt.subplots()\n",
        "inter=np.linspace(-1,4,100)\n",
        "#g=sp.lambdify()"
      ],
      "metadata": {
        "colab": {
          "base_uri": "https://localhost:8080/",
          "height": 269
        },
        "id": "m0NY4TCikZbB",
        "outputId": "704d80f0-1256-4678-d5df-0a1fe2b76cba"
      },
      "execution_count": 6,
      "outputs": [
        {
          "output_type": "display_data",
          "data": {
            "text/plain": [
              "<Figure size 432x288 with 1 Axes>"
            ],
            "image/png": "[encoded data removed]"
          },
          "metadata": {
            "needs_background": "light"
          }
        }
      ]
    },
    {
      "cell_type": "code",
      "source": [
        "#POLE WEKTOROWE\n",
        "x=np.linspace(-3,3,10)\n",
        "y=np.linspace(-3,3,10)\n",
        "X,Y = np.meshgrid(x,y)\n",
        "fig, ax = plt.subplots()\n",
        "ax.quiver(X,Y,1-X*X+Y,1+X+Y*Y)\n",
        "WX=1-X*X+Y\n",
        "WY =1+X+Y*Y\n"
      ],
      "metadata": {
        "colab": {
          "base_uri": "https://localhost:8080/",
          "height": 265
        },
        "id": "BrySiU8UmpZ2",
        "outputId": "c9408152-e82b-43d0-d78a-7f73e03dd439"
      },
      "execution_count": 11,
      "outputs": [
        {
          "output_type": "display_data",
          "data": {
            "text/plain": [
              "<Figure size 432x288 with 1 Axes>"
            ],
            "image/png": "[encoded data removed]"
          },
          "metadata": {
            "needs_background": "light"
          }
        }
      ]
    },
    {
      "cell_type": "code",
      "source": [
        "#POZIOMICE\n",
        "A=np.arange(1,65).reshape(8,8)"
      ],
      "metadata": {
        "colab": {
          "base_uri": "https://localhost:8080/"
        },
        "id": "Y9SfRVLcoNI2",
        "outputId": "1905fced-9ac6-4939-ef49-67396800ea0c"
      },
      "execution_count": 33,
      "outputs": [
        {
          "output_type": "execute_result",
          "data": {
            "text/plain": [
              "array([[ 1,  2,  3,  4,  5,  6,  7,  8],\n",
              "       [ 9, 10, 11, 12, 13, 14, 15, 16],\n",
              "       [17, 18, 19, 20, 21, 22, 23, 24],\n",
              "       [25, 26, 27, 28, 29, 30, 31, 32],\n",
              "       [33, 34, 35, 36, 37, 38, 39, 40],\n",
              "       [41, 42, 43, 44, 45, 46, 47, 48],\n",
              "       [49, 50, 51, 52, 53, 54, 55, 56],\n",
              "       [57, 58, 59, 60, 61, 62, 63, 64]])"
            ]
          },
          "metadata": {},
          "execution_count": 33
        }
      ]
    }
  ]
}