{
  "nbformat": 4,
  "nbformat_minor": 0,
  "metadata": {
    "colab": {
      "name": "lab15.ipynb",
      "provenance": [],
      "collapsed_sections": [],
      "include_colab_link": true
    },
    "kernelspec": {
      "name": "python3",
      "display_name": "Python 3"
    },
    "language_info": {
      "name": "python"
    }
  },
  "cells": [
    {
      "cell_type": "markdown",
      "metadata": {
        "id": "view-in-github",
        "colab_type": "text"
      },
      "source": [
        "<a href=\"https://colab.research.google.com/github/Aleksandra2002/obliczenia_naukowe/blob/main/lab15.ipynb\" target=\"_parent\"><img src=\"https://colab.research.google.com/assets/colab-badge.svg\" alt=\"Open In Colab\"/></a>"
      ]
    },
    {
      "cell_type": "markdown",
      "source": [
        "# Regresja liniowa"
      ],
      "metadata": {
        "id": "njngLIhzwokv"
      }
    },
    {
      "cell_type": "code",
      "source": [
        "from sklearn import datasets #zbiory danych\n",
        "from sklearn import model_selection #podział danych na uczące i testowe\n",
        "from sklearn import linear_model\n",
        "from sklearn import metrics #miary do oceny pracy modelu\n",
        "\n",
        "import matplotlib.pyplot as plt\n",
        "import numpy as np\n",
        "import pandas as pd\n"
      ],
      "metadata": {
        "id": "D4B7exeywqBX"
      },
      "execution_count": 1,
      "outputs": []
    },
    {
      "cell_type": "code",
      "source": [
        "X_all, y_all=datasets.make_regression(n_samples=50, n_features=50, n_informative=10)"
      ],
      "metadata": {
        "id": "cPCtHqGYxX-0"
      },
      "execution_count": 2,
      "outputs": []
    },
    {
      "cell_type": "code",
      "source": [
        "X_all.shape"
      ],
      "metadata": {
        "colab": {
          "base_uri": "https://localhost:8080/"
        },
        "id": "eYrH15ccx4E8",
        "outputId": "ebbe9856-e59c-4340-bef9-b4b86cbd3b9c"
      },
      "execution_count": 3,
      "outputs": [
        {
          "output_type": "execute_result",
          "data": {
            "text/plain": [
              "(50, 50)"
            ]
          },
          "metadata": {},
          "execution_count": 3
        }
      ]
    },
    {
      "cell_type": "code",
      "source": [
        "y_all.shape"
      ],
      "metadata": {
        "colab": {
          "base_uri": "https://localhost:8080/"
        },
        "id": "exAo3YL1x5yb",
        "outputId": "b4cd2b6d-6673-4d58-fdab-880819b5ba67"
      },
      "execution_count": 4,
      "outputs": [
        {
          "output_type": "execute_result",
          "data": {
            "text/plain": [
              "(50,)"
            ]
          },
          "metadata": {},
          "execution_count": 4
        }
      ]
    },
    {
      "cell_type": "code",
      "source": [
        "X_train,X_test,y_train,y_test=model_selection.train_test_split(X_all,y_all,test_size=25)"
      ],
      "metadata": {
        "id": "8wOnf6vBx_9L"
      },
      "execution_count": 5,
      "outputs": []
    },
    {
      "cell_type": "code",
      "source": [
        "X_train.shape"
      ],
      "metadata": {
        "colab": {
          "base_uri": "https://localhost:8080/"
        },
        "id": "pfr6XjwXzNie",
        "outputId": "36fcc887-dbd3-4c28-bf81-68292069ff31"
      },
      "execution_count": 6,
      "outputs": [
        {
          "output_type": "execute_result",
          "data": {
            "text/plain": [
              "(25, 50)"
            ]
          },
          "metadata": {},
          "execution_count": 6
        }
      ]
    },
    {
      "cell_type": "code",
      "source": [
        "model=linear_model.LinearRegression()"
      ],
      "metadata": {
        "id": "ywE_y81vzSlQ"
      },
      "execution_count": 7,
      "outputs": []
    },
    {
      "cell_type": "code",
      "source": [
        "model.fit(X_train,y_train)"
      ],
      "metadata": {
        "colab": {
          "base_uri": "https://localhost:8080/"
        },
        "id": "PS4LWN7PzjjM",
        "outputId": "e86e3d29-1a81-451e-dcae-8b28488fa099"
      },
      "execution_count": 8,
      "outputs": [
        {
          "output_type": "execute_result",
          "data": {
            "text/plain": [
              "LinearRegression()"
            ]
          },
          "metadata": {},
          "execution_count": 8
        }
      ]
    },
    {
      "cell_type": "code",
      "source": [
        "y_predict=model.predict(X_test)"
      ],
      "metadata": {
        "id": "iU-1mdMxz8bW"
      },
      "execution_count": 9,
      "outputs": []
    },
    {
      "cell_type": "code",
      "source": [
        "(y_test-y_predict).std()"
      ],
      "metadata": {
        "colab": {
          "base_uri": "https://localhost:8080/"
        },
        "id": "YLjX43800SEh",
        "outputId": "c95c3049-e2eb-4f5c-a59f-2ecfd2773a17"
      },
      "execution_count": 10,
      "outputs": [
        {
          "output_type": "execute_result",
          "data": {
            "text/plain": [
              "199.40641803335447"
            ]
          },
          "metadata": {},
          "execution_count": 10
        }
      ]
    },
    {
      "cell_type": "code",
      "source": [
        "np.sqrt(metrics.mean_squared_error(y_test,y_predict))"
      ],
      "metadata": {
        "colab": {
          "base_uri": "https://localhost:8080/"
        },
        "id": "4avzem1L0w6K",
        "outputId": "12b90faf-8b91-4dfb-e9eb-3e1e19944a5f"
      },
      "execution_count": 11,
      "outputs": [
        {
          "output_type": "execute_result",
          "data": {
            "text/plain": [
              "199.5747771754716"
            ]
          },
          "metadata": {},
          "execution_count": 11
        }
      ]
    },
    {
      "cell_type": "code",
      "source": [
        "np.sqrt(metrics.mean_squared_error(y_train,model.predict(X_train)))"
      ],
      "metadata": {
        "colab": {
          "base_uri": "https://localhost:8080/"
        },
        "id": "RvgTaKBr1Dqk",
        "outputId": "4a06fa0f-1a7f-42f7-c7aa-1d90b4ed6831"
      },
      "execution_count": 12,
      "outputs": [
        {
          "output_type": "execute_result",
          "data": {
            "text/plain": [
              "3.228679921121088e-13"
            ]
          },
          "metadata": {},
          "execution_count": 12
        }
      ]
    },
    {
      "cell_type": "code",
      "source": [
        "def rysuj_reszty_i_współczynniki(resid_train, resid_test, coeff):\n",
        "    fig, axes = plt.subplots(1, 3, figsize=(12, 3))\n",
        "    axes[0].bar(np.arange(len(resid_train)), resid_train)\n",
        "    axes[0].set_xlabel(\"Numer próbki\")\n",
        "    axes[0].set_ylabel(\"Reszta\")\n",
        "    axes[0].set_title(\"Zbiór uczący\")\n",
        "    axes[1].bar(np.arange(len(resid_test)), resid_test)\n",
        "    axes[1].set_xlabel(\"Numer próbki\")\n",
        "    axes[1].set_ylabel(\"Reszta\")\n",
        "    axes[1].set_title(\"Zbiór testowy\")\n",
        "    axes[2].bar(np.arange(len(coeff)), coeff)\n",
        "    axes[2].set_xlabel(\"Numer współczynnika\")\n",
        "    axes[2].set_ylabel(\"Wartość współczynnika\")\n",
        "    fig.tight_layout()\n",
        "    return fig, axes"
      ],
      "metadata": {
        "id": "gqB1PpdV19jw"
      },
      "execution_count": 13,
      "outputs": []
    },
    {
      "cell_type": "code",
      "source": [
        "rysuj_reszty_i_współczynniki(y_train-model.predict(X_train),y_test-model.predict(X_train),model.coef_)"
      ],
      "metadata": {
        "colab": {
          "base_uri": "https://localhost:8080/",
          "height": 312
        },
        "id": "yOZ_OP6t2ae3",
        "outputId": "4f2fa9cf-2048-47bf-ae3e-0800eaa5f29a"
      },
      "execution_count": 14,
      "outputs": [
        {
          "output_type": "execute_result",
          "data": {
            "text/plain": [
              "(<Figure size 864x216 with 3 Axes>,\n",
              " array([<matplotlib.axes._subplots.AxesSubplot object at 0x7f17c94c3350>,\n",
              "        <matplotlib.axes._subplots.AxesSubplot object at 0x7f17c69e9ed0>,\n",
              "        <matplotlib.axes._subplots.AxesSubplot object at 0x7f17c6936650>],\n",
              "       dtype=object))"
            ]
          },
          "metadata": {},
          "execution_count": 14
        },
        {
          "output_type": "display_data",
          "data": {
            "text/plain": [
              "<Figure size 864x216 with 3 Axes>"
            ],
            "image/png": "[encoded data removed]"
          },
          "metadata": {
            "needs_background": "light"
          }
        }
      ]
    },
    {
      "cell_type": "markdown",
      "source": [
        "## Sposoby poprawienia modelu regresji\n",
        "Model domyślnie dopasowuje się metodą najmniejszych kwadratów, czyli minimalizuje funkcję sse. Możemy zmienić tę 'taktykę' dodając 'karę' za jakość dobranych współczynników:\n",
        "* metoda LASSO, ```linear_model.Lasso``` (preferuje jak najmniej niezerowych współczynników)\n",
        "* regresja grzebietowa, ```linear_model.Ridge``` (preferuje jak najmniejsze współczynniki)"
      ],
      "metadata": {
        "id": "MWzA-CLK3fSS"
      }
    },
    {
      "cell_type": "markdown",
      "source": [
        "## Zadanie\n",
        "* dokonaj podziału danych na uczące i testowe\n",
        "* przeprowadź analizę regresji metodą Lasso lub regresją grzbietową z ustalonym współczynnikiem $\\alpha$ \n",
        "* sprawdź błąd kwadratowy na danych uczących i na danych testowych\n",
        "* oceń dopasowanie modelu metodą score\n",
        "* sporządź rysunki za pomocą zdefiniowanej wyżej funkcji ```rysuj_reszty_i_współczynniki```"
      ],
      "metadata": {
        "id": "f9m5swR23uQu"
      }
    },
    {
      "cell_type": "code",
      "source": [
        "model2=linear_model.Ridge()\n",
        "model2.fit(X_train,y_train)\n",
        "y_predict=model2.predict(X_test)"
      ],
      "metadata": {
        "id": "amULehmp2nZ5"
      },
      "execution_count": 15,
      "outputs": []
    },
    {
      "cell_type": "code",
      "source": [
        "np.sqrt(metrics.mean_squared_error(y_predict,y_test))"
      ],
      "metadata": {
        "colab": {
          "base_uri": "https://localhost:8080/"
        },
        "id": "BtetESc35UKS",
        "outputId": "07e2dee4-51a3-4666-8ff4-8d2c118710e6"
      },
      "execution_count": 16,
      "outputs": [
        {
          "output_type": "execute_result",
          "data": {
            "text/plain": [
              "196.75104952742365"
            ]
          },
          "metadata": {},
          "execution_count": 16
        }
      ]
    },
    {
      "cell_type": "code",
      "source": [
        "model2.score(X_train,y_train)"
      ],
      "metadata": {
        "colab": {
          "base_uri": "https://localhost:8080/"
        },
        "id": "MSQ2p-F85dj7",
        "outputId": "7692b0d3-e404-40dd-fcfc-9955da7c47ed"
      },
      "execution_count": 17,
      "outputs": [
        {
          "output_type": "execute_result",
          "data": {
            "text/plain": [
              "0.9993225335052273"
            ]
          },
          "metadata": {},
          "execution_count": 17
        }
      ]
    },
    {
      "cell_type": "code",
      "source": [
        "model2.score(X_test,y_test)"
      ],
      "metadata": {
        "colab": {
          "base_uri": "https://localhost:8080/"
        },
        "id": "phuE8ZCL57jQ",
        "outputId": "ff86cc37-e1f2-432b-c7f3-7fd1ef75e905"
      },
      "execution_count": 18,
      "outputs": [
        {
          "output_type": "execute_result",
          "data": {
            "text/plain": [
              "-0.292905395529651"
            ]
          },
          "metadata": {},
          "execution_count": 18
        }
      ]
    },
    {
      "cell_type": "code",
      "source": [
        "rysuj_reszty_i_współczynniki(y_train-model2.predict(X_train),y_test-model2.predict(X_train),model2.coef_)"
      ],
      "metadata": {
        "colab": {
          "base_uri": "https://localhost:8080/",
          "height": 312
        },
        "id": "jpUhZasZ6Axw",
        "outputId": "99d927c8-f97b-490c-e8c5-7e87eee0aafe"
      },
      "execution_count": 19,
      "outputs": [
        {
          "output_type": "execute_result",
          "data": {
            "text/plain": [
              "(<Figure size 864x216 with 3 Axes>,\n",
              " array([<matplotlib.axes._subplots.AxesSubplot object at 0x7f17c3aa6710>,\n",
              "        <matplotlib.axes._subplots.AxesSubplot object at 0x7f17c3a60c10>,\n",
              "        <matplotlib.axes._subplots.AxesSubplot object at 0x7f17c3a9c210>],\n",
              "       dtype=object))"
            ]
          },
          "metadata": {},
          "execution_count": 19
        },
        {
          "output_type": "display_data",
          "data": {
            "text/plain": [
              "<Figure size 864x216 with 3 Axes>"
            ],
            "image/png": "[encoded data removed]"
          },
          "metadata": {
            "needs_background": "light"
          }
        }
      ]
    },
    {
      "cell_type": "markdown",
      "source": [
        ""
      ],
      "metadata": {
        "id": "Z-2Nj6Ah6kC2"
      }
    },
    {
      "cell_type": "markdown",
      "source": [
        "# Klasyfikacja\n",
        "Dokonamy klasyfikacji (przypisania do grup) danych na podstawie zbioru danych cech irysów. Korzystamy z modelu ```linear_model.LogisticRegression```. Można też wykorzystać w tym celu:\n",
        "* drzewa decyzyjne ```tree.DecisionTreeClassifier```\n",
        "* metodę najbliższego sąsiada ```neighbors.KNeighborsClassifier```"
      ],
      "metadata": {
        "id": "btFXHpXO7Tyy"
      }
    },
    {
      "cell_type": "code",
      "source": [
        "irysy=datasets.load_iris()"
      ],
      "metadata": {
        "id": "LlNB8-Tj6Jie"
      },
      "execution_count": 20,
      "outputs": []
    },
    {
      "cell_type": "code",
      "source": [
        "type(irysy)"
      ],
      "metadata": {
        "colab": {
          "base_uri": "https://localhost:8080/"
        },
        "id": "tT-E0hRb7yJk",
        "outputId": "7550edb0-dcdb-45b0-ab86-63a782de39cf"
      },
      "execution_count": 21,
      "outputs": [
        {
          "output_type": "execute_result",
          "data": {
            "text/plain": [
              "sklearn.utils.Bunch"
            ]
          },
          "metadata": {},
          "execution_count": 21
        }
      ]
    },
    {
      "cell_type": "code",
      "source": [
        "\n",
        "X_all=irysy.data\n",
        "y_all=irysy.target"
      ],
      "metadata": {
        "id": "LuIxS1Vl77fI"
      },
      "execution_count": 22,
      "outputs": []
    },
    {
      "cell_type": "code",
      "source": [
        "X_train,X_test,y_train,y_test=model_selection.train_test_split(X_all,y_all)"
      ],
      "metadata": {
        "id": "uVBKJJ2O8A_9"
      },
      "execution_count": 23,
      "outputs": []
    },
    {
      "cell_type": "code",
      "source": [
        "model=linear_model.LogisticRegression()"
      ],
      "metadata": {
        "id": "5MzlizQ386Yc"
      },
      "execution_count": 24,
      "outputs": []
    },
    {
      "cell_type": "code",
      "source": [
        "model.fit(X_train,y_train)"
      ],
      "metadata": {
        "colab": {
          "base_uri": "https://localhost:8080/"
        },
        "id": "kQGWapoX879a",
        "outputId": "fd37f00b-c345-4453-8ab7-c6ea5d9184c4"
      },
      "execution_count": 25,
      "outputs": [
        {
          "output_type": "execute_result",
          "data": {
            "text/plain": [
              "LogisticRegression()"
            ]
          },
          "metadata": {},
          "execution_count": 25
        }
      ]
    },
    {
      "cell_type": "code",
      "source": [
        "y_predict=model.predict(X_test)"
      ],
      "metadata": {
        "id": "_i6KyrCG9bLq"
      },
      "execution_count": 26,
      "outputs": []
    },
    {
      "cell_type": "code",
      "source": [
        "y_predict-y_test"
      ],
      "metadata": {
        "colab": {
          "base_uri": "https://localhost:8080/"
        },
        "id": "vINXeRmb9tjB",
        "outputId": "468af0c2-a121-49b1-af2b-c4ec49c18604"
      },
      "execution_count": 27,
      "outputs": [
        {
          "output_type": "execute_result",
          "data": {
            "text/plain": [
              "array([0, 0, 0, 0, 0, 0, 0, 0, 0, 0, 0, 0, 0, 0, 0, 0, 0, 0, 0, 0, 0, 0,\n",
              "       0, 0, 0, 0, 1, 0, 0, 0, 1, 0, 0, 0, 0, 0, 0, 0])"
            ]
          },
          "metadata": {},
          "execution_count": 27
        }
      ]
    },
    {
      "cell_type": "code",
      "source": [
        "print(metrics.classification_report(y_test,y_predict))"
      ],
      "metadata": {
        "colab": {
          "base_uri": "https://localhost:8080/"
        },
        "id": "SQD1KB3w90EF",
        "outputId": "54fe47b3-8e76-4a03-854f-f90b210cdbc0"
      },
      "execution_count": 28,
      "outputs": [
        {
          "output_type": "stream",
          "name": "stdout",
          "text": [
            "              precision    recall  f1-score   support\n",
            "\n",
            "           0       1.00      1.00      1.00        13\n",
            "           1       1.00      0.88      0.94        17\n",
            "           2       0.80      1.00      0.89         8\n",
            "\n",
            "    accuracy                           0.95        38\n",
            "   macro avg       0.93      0.96      0.94        38\n",
            "weighted avg       0.96      0.95      0.95        38\n",
            "\n"
          ]
        }
      ]
    },
    {
      "cell_type": "markdown",
      "source": [
        "## Zadanie \n",
        "Spośród cech irysów wybierz tylko dwie i dokonaj klasyfikacji gatunków za ich pomocą metodą najbliższych trzech sąsiadów (dla wcześniej zdefiniowanego podziału). Narysuj wykres punktowy opisujący te dwie wybrane cechy i z kolorami punktów zależnymi od klasyfikacji (na danych testowych). Obok narysuj ten sam wykres z oryginalną klasyfikacją.\n",
        "\n",
        "neighbors.KNeighborsClassifier"
      ],
      "metadata": {
        "id": "e-eveRpL_a6N"
      }
    },
    {
      "cell_type": "code",
      "source": [
        "irysy.feature_names"
      ],
      "metadata": {
        "colab": {
          "base_uri": "https://localhost:8080/"
        },
        "id": "c9ehOSmG-M98",
        "outputId": "1eea28e3-8448-42b5-90df-77785bc1ab8b"
      },
      "execution_count": 29,
      "outputs": [
        {
          "output_type": "execute_result",
          "data": {
            "text/plain": [
              "['sepal length (cm)',\n",
              " 'sepal width (cm)',\n",
              " 'petal length (cm)',\n",
              " 'petal width (cm)']"
            ]
          },
          "metadata": {},
          "execution_count": 29
        }
      ]
    },
    {
      "cell_type": "code",
      "source": [
        "from sklearn import neighbors\n",
        "model=neighbors.KNeighborsClassifier(3)\n",
        "x=0\n",
        "y=2\n",
        "model.fit(X_train[:,[x,y]],y_train)"
      ],
      "metadata": {
        "colab": {
          "base_uri": "https://localhost:8080/"
        },
        "id": "rFVGBhFu_mTA",
        "outputId": "6b983c92-4fb1-414e-8785-19b250e9d27c"
      },
      "execution_count": 30,
      "outputs": [
        {
          "output_type": "execute_result",
          "data": {
            "text/plain": [
              "KNeighborsClassifier(n_neighbors=3)"
            ]
          },
          "metadata": {},
          "execution_count": 30
        }
      ]
    },
    {
      "cell_type": "code",
      "source": [
        "y_predict=model.predict(X_test[:,[x,y]])\n",
        "\n",
        "fig,ax=plt.subplots(1,2,figsize=(10,5))\n",
        "for i in range(3):\n",
        "    maska=(y_predict == i)\n",
        "    ax[0].scatter(X_test[:,x][maska],X_test[:,y][maska],label=irysy.target_names[i])\n",
        "    ax[0].set(title='Podział przewidywany', xlabel=irysy.feature_names[x],ylabel=irysy.feature_names[y])\n",
        "ax[0].legend()\n",
        "\n",
        "for i in range(3):\n",
        "    maska=(y_test == i)\n",
        "    ax[1].scatter(X_test[:,x][maska],X_test[:,y][maska],label=irysy.target_names[i])\n",
        "    ax[1].set(title='Podział właściwy (z danych)', xlabel=irysy.feature_names[x],ylabel=irysy.feature_names[y])\n",
        "ax[1].legend()"
      ],
      "metadata": {
        "colab": {
          "base_uri": "https://localhost:8080/",
          "height": 367
        },
        "id": "8FqHtDgKBWD9",
        "outputId": "de057956-9bd8-4983-be51-d08d68508fbe"
      },
      "execution_count": 31,
      "outputs": [
        {
          "output_type": "execute_result",
          "data": {
            "text/plain": [
              "<matplotlib.legend.Legend at 0x7f17c362c790>"
            ]
          },
          "metadata": {},
          "execution_count": 31
        },
        {
          "output_type": "display_data",
          "data": {
            "text/plain": [
              "<Figure size 720x360 with 2 Axes>"
            ],
            "image/png": "[encoded data removed]"
          },
          "metadata": {
            "needs_background": "light"
          }
        }
      ]
    },
    {
      "cell_type": "markdown",
      "source": [
        "## Zadanie domowe\n",
        "* wygeneruj dane do regresji liniowej z 100 próbkami, 40 cechami, w tym 20 istotnymi i wybranym random_state\n",
        "* przeprowadź analizę metodą Lasso dla różnych parametrów $\\alpha$ i spróbuj określić jaki współczynnik jest najlepszy dla przewidywania przyszłych wyników"
      ],
      "metadata": {
        "id": "jdrRK2GPGRrr"
      }
    },
    {
      "cell_type": "markdown",
      "source": [
        "####1.06 "
      ],
      "metadata": {
        "id": "CMUf1Kr5zceY"
      }
    },
    {
      "cell_type": "code",
      "source": [
        "#klasteryzacja- bez etykiet\n",
        "irysy=datasets.load_iris() #wczytanie danych o irysach\n",
        "type(irysy) #kontener danych\n",
        "X=irysy.data #macierz X\n",
        "y=irysy.target"
      ],
      "metadata": {
        "id": "_0pa_5ajze74"
      },
      "execution_count": 50,
      "outputs": []
    },
    {
      "cell_type": "code",
      "source": [
        "from sklearn.cluster import KMeans\n",
        "model_KM = KMeans(3)\n",
        "model_KM.fit(X)"
      ],
      "metadata": {
        "colab": {
          "base_uri": "https://localhost:8080/"
        },
        "id": "7VikLvfl0LkS",
        "outputId": "acc083b6-c720-4afa-ac39-0d86952bc19e"
      },
      "execution_count": 51,
      "outputs": [
        {
          "output_type": "execute_result",
          "data": {
            "text/plain": [
              "KMeans(n_clusters=3)"
            ]
          },
          "metadata": {},
          "execution_count": 51
        }
      ]
    },
    {
      "cell_type": "code",
      "source": [
        "y_pred = model_KM.predict(X)"
      ],
      "metadata": {
        "id": "JRtQwtxT01B8"
      },
      "execution_count": 52,
      "outputs": []
    },
    {
      "cell_type": "code",
      "source": [
        "y_pred"
      ],
      "metadata": {
        "colab": {
          "base_uri": "https://localhost:8080/"
        },
        "id": "8xPXIm4O1HNO",
        "outputId": "10b75ee1-4363-4532-fee1-6d8cca712d07"
      },
      "execution_count": 54,
      "outputs": [
        {
          "output_type": "execute_result",
          "data": {
            "text/plain": [
              "array([0, 0, 0, 0, 0, 0, 0, 0, 0, 0, 0, 0, 0, 0, 0, 0, 0, 0, 0, 0, 0, 0,\n",
              "       0, 0, 0, 0, 0, 0, 0, 0, 0, 0, 0, 0, 0, 0, 0, 0, 0, 0, 0, 0, 0, 0,\n",
              "       0, 0, 0, 0, 0, 0, 1, 1, 2, 1, 1, 1, 1, 1, 1, 1, 1, 1, 1, 1, 1, 1,\n",
              "       1, 1, 1, 1, 1, 1, 1, 1, 1, 1, 1, 2, 1, 1, 1, 1, 1, 1, 1, 1, 1, 1,\n",
              "       1, 1, 1, 1, 1, 1, 1, 1, 1, 1, 1, 1, 2, 1, 2, 2, 2, 2, 1, 2, 2, 2,\n",
              "       2, 2, 2, 1, 1, 2, 2, 2, 2, 1, 2, 1, 2, 1, 2, 2, 1, 1, 2, 2, 2, 2,\n",
              "       2, 1, 2, 2, 2, 2, 1, 2, 2, 2, 1, 2, 2, 2, 1, 2, 2, 1], dtype=int32)"
            ]
          },
          "metadata": {},
          "execution_count": 54
        }
      ]
    },
    {
      "cell_type": "code",
      "source": [
        "maska0=(y_pred==0)"
      ],
      "metadata": {
        "id": "8xnNTayn2_4s"
      },
      "execution_count": 57,
      "outputs": []
    },
    {
      "cell_type": "code",
      "source": [
        "maska1=(y_pred==1)"
      ],
      "metadata": {
        "id": "aEgrL0QB3Fd2"
      },
      "execution_count": 58,
      "outputs": []
    },
    {
      "cell_type": "code",
      "source": [
        "print(metrics.classification_report(y,y_pred)) #metryka"
      ],
      "metadata": {
        "colab": {
          "base_uri": "https://localhost:8080/"
        },
        "id": "fH5JMPSs3NaQ",
        "outputId": "8448a0aa-6de4-49b3-f3b5-08fa77d7842f"
      },
      "execution_count": 60,
      "outputs": [
        {
          "output_type": "stream",
          "name": "stdout",
          "text": [
            "              precision    recall  f1-score   support\n",
            "\n",
            "           0       1.00      1.00      1.00        50\n",
            "           1       0.77      0.96      0.86        50\n",
            "           2       0.95      0.72      0.82        50\n",
            "\n",
            "    accuracy                           0.89       150\n",
            "   macro avg       0.91      0.89      0.89       150\n",
            "weighted avg       0.91      0.89      0.89       150\n",
            "\n"
          ]
        }
      ]
    },
    {
      "cell_type": "code",
      "source": [
        "metrics.confusion_matrix(y,y_pred) #najpierw zawsze prawdziwy"
      ],
      "metadata": {
        "colab": {
          "base_uri": "https://localhost:8080/"
        },
        "id": "aH-Qgsu33cWN",
        "outputId": "f81145c2-a5f2-4955-84e4-37dd0eff5981"
      },
      "execution_count": 62,
      "outputs": [
        {
          "output_type": "execute_result",
          "data": {
            "text/plain": [
              "array([[50,  0,  0],\n",
              "       [ 0, 48,  2],\n",
              "       [ 0, 14, 36]])"
            ]
          },
          "metadata": {},
          "execution_count": 62
        }
      ]
    },
    {
      "cell_type": "code",
      "source": [
        "y"
      ],
      "metadata": {
        "colab": {
          "base_uri": "https://localhost:8080/"
        },
        "id": "YdTkOc8e1oVq",
        "outputId": "8196b6b4-f8de-45d8-db75-93ddcc5ac01e"
      },
      "execution_count": 55,
      "outputs": [
        {
          "output_type": "execute_result",
          "data": {
            "text/plain": [
              "array([0, 0, 0, 0, 0, 0, 0, 0, 0, 0, 0, 0, 0, 0, 0, 0, 0, 0, 0, 0, 0, 0,\n",
              "       0, 0, 0, 0, 0, 0, 0, 0, 0, 0, 0, 0, 0, 0, 0, 0, 0, 0, 0, 0, 0, 0,\n",
              "       0, 0, 0, 0, 0, 0, 1, 1, 1, 1, 1, 1, 1, 1, 1, 1, 1, 1, 1, 1, 1, 1,\n",
              "       1, 1, 1, 1, 1, 1, 1, 1, 1, 1, 1, 1, 1, 1, 1, 1, 1, 1, 1, 1, 1, 1,\n",
              "       1, 1, 1, 1, 1, 1, 1, 1, 1, 1, 1, 1, 2, 2, 2, 2, 2, 2, 2, 2, 2, 2,\n",
              "       2, 2, 2, 2, 2, 2, 2, 2, 2, 2, 2, 2, 2, 2, 2, 2, 2, 2, 2, 2, 2, 2,\n",
              "       2, 2, 2, 2, 2, 2, 2, 2, 2, 2, 2, 2, 2, 2, 2, 2, 2, 2])"
            ]
          },
          "metadata": {},
          "execution_count": 55
        }
      ]
    },
    {
      "cell_type": "markdown",
      "source": [
        "MeanShift"
      ],
      "metadata": {
        "id": "rzZkRNrb4SZY"
      }
    },
    {
      "cell_type": "code",
      "source": [
        "from sklearn.cluster import MeanShift\n",
        "model_MS= MeanShift()\n",
        "model_MS.fit(X)\n",
        "y_pred = model_MS.predict(X)\n",
        "y_pred"
      ],
      "metadata": {
        "colab": {
          "base_uri": "https://localhost:8080/"
        },
        "id": "MBLIVRYo4VyC",
        "outputId": "40475c3e-0edd-4ae4-adad-f85d8c9a6abc"
      },
      "execution_count": 71,
      "outputs": [
        {
          "output_type": "execute_result",
          "data": {
            "text/plain": [
              "array([1, 1, 1, 1, 1, 1, 1, 1, 1, 1, 1, 1, 1, 1, 1, 1, 1, 1, 1, 1, 1, 1,\n",
              "       1, 1, 1, 1, 1, 1, 1, 1, 1, 1, 1, 1, 1, 1, 1, 1, 1, 1, 1, 1, 1, 1,\n",
              "       1, 1, 1, 1, 1, 1, 0, 0, 0, 0, 0, 0, 0, 0, 0, 0, 0, 0, 0, 0, 0, 0,\n",
              "       0, 0, 0, 0, 0, 0, 0, 0, 0, 0, 0, 0, 0, 0, 0, 0, 0, 0, 0, 0, 0, 0,\n",
              "       0, 0, 0, 0, 0, 0, 0, 0, 0, 0, 1, 0, 0, 0, 0, 0, 0, 0, 0, 0, 0, 0,\n",
              "       0, 0, 0, 0, 0, 0, 0, 0, 0, 0, 0, 0, 0, 0, 0, 0, 0, 0, 0, 0, 0, 0,\n",
              "       0, 0, 0, 0, 0, 0, 0, 0, 0, 0, 0, 0, 0, 0, 0, 0, 0, 0])"
            ]
          },
          "metadata": {},
          "execution_count": 71
        }
      ]
    },
    {
      "cell_type": "code",
      "source": [
        "#szybszy zapis\n",
        "model_MS.fit_predict(X)"
      ],
      "metadata": {
        "colab": {
          "base_uri": "https://localhost:8080/"
        },
        "id": "eb8fXe7Y5tcP",
        "outputId": "035b2da2-9eab-4211-bd89-f84dcf074e86"
      },
      "execution_count": 73,
      "outputs": [
        {
          "output_type": "execute_result",
          "data": {
            "text/plain": [
              "array([1, 1, 1, 1, 1, 1, 1, 1, 1, 1, 1, 1, 1, 1, 1, 1, 1, 1, 1, 1, 1, 1,\n",
              "       1, 1, 1, 1, 1, 1, 1, 1, 1, 1, 1, 1, 1, 1, 1, 1, 1, 1, 1, 1, 1, 1,\n",
              "       1, 1, 1, 1, 1, 1, 0, 0, 0, 0, 0, 0, 0, 0, 0, 0, 0, 0, 0, 0, 0, 0,\n",
              "       0, 0, 0, 0, 0, 0, 0, 0, 0, 0, 0, 0, 0, 0, 0, 0, 0, 0, 0, 0, 0, 0,\n",
              "       0, 0, 0, 0, 0, 0, 0, 0, 0, 0, 1, 0, 0, 0, 0, 0, 0, 0, 0, 0, 0, 0,\n",
              "       0, 0, 0, 0, 0, 0, 0, 0, 0, 0, 0, 0, 0, 0, 0, 0, 0, 0, 0, 0, 0, 0,\n",
              "       0, 0, 0, 0, 0, 0, 0, 0, 0, 0, 0, 0, 0, 0, 0, 0, 0, 0])"
            ]
          },
          "metadata": {},
          "execution_count": 73
        }
      ]
    },
    {
      "cell_type": "markdown",
      "source": [
        "Metoda PCA - redukcja wymiarowości"
      ],
      "metadata": {
        "id": "7SbR4sEy7ao-"
      }
    },
    {
      "cell_type": "code",
      "source": [
        "from sklearn.decomposition import PCA\n",
        "#redukcja wymiarów irysów\n",
        "redukcja=PCA(n_components=2) #ile chcemy miec skladowych\n",
        "redukcja.fit(X) #teraz zamiast predict mamy transform\n",
        "X_new =redukcja.fit_transform(X)"
      ],
      "metadata": {
        "id": "weUeStjf7Z2Y"
      },
      "execution_count": 77,
      "outputs": []
    },
    {
      "cell_type": "code",
      "source": [
        "target_name=irysy.target_names\n",
        "for i, target_name in zip([0,1,2],irysy.target_names):\n",
        "  plt.scatter(\n",
        "      X_new[y==1]\n",
        "  )\n",
        "plt.legend"
      ],
      "metadata": {
        "id": "j2jKliWu8T9H"
      },
      "execution_count": 78,
      "outputs": []
    },
    {
      "cell_type": "code",
      "source": [
        "from sklearn.datasets import load_breast_cancer\n",
        "rak=load_breast_cancer()"
      ],
      "metadata": {
        "id": "0GZ_5Jl286Jd"
      },
      "execution_count": 79,
      "outputs": []
    },
    {
      "cell_type": "code",
      "source": [
        "X=rak.data\n",
        "y=rak.target\n",
        "rak.feature_names"
      ],
      "metadata": {
        "colab": {
          "base_uri": "https://localhost:8080/"
        },
        "id": "eIDQs6bZ9HZM",
        "outputId": "402dc2b4-27dc-4e62-8a20-c7de382f2572"
      },
      "execution_count": 84,
      "outputs": [
        {
          "output_type": "execute_result",
          "data": {
            "text/plain": [
              "array(['mean radius', 'mean texture', 'mean perimeter', 'mean area',\n",
              "       'mean smoothness', 'mean compactness', 'mean concavity',\n",
              "       'mean concave points', 'mean symmetry', 'mean fractal dimension',\n",
              "       'radius error', 'texture error', 'perimeter error', 'area error',\n",
              "       'smoothness error', 'compactness error', 'concavity error',\n",
              "       'concave points error', 'symmetry error',\n",
              "       'fractal dimension error', 'worst radius', 'worst texture',\n",
              "       'worst perimeter', 'worst area', 'worst smoothness',\n",
              "       'worst compactness', 'worst concavity', 'worst concave points',\n",
              "       'worst symmetry', 'worst fractal dimension'], dtype='<U23')"
            ]
          },
          "metadata": {},
          "execution_count": 84
        }
      ]
    },
    {
      "cell_type": "code",
      "source": [
        "X.shape #sprawdzamy wymiar X"
      ],
      "metadata": {
        "colab": {
          "base_uri": "https://localhost:8080/"
        },
        "id": "j863H2HA9m0a",
        "outputId": "b95d54bc-dab3-4f2f-b0d3-55d1a64d585e"
      },
      "execution_count": 83,
      "outputs": [
        {
          "output_type": "execute_result",
          "data": {
            "text/plain": [
              "(569, 30)"
            ]
          },
          "metadata": {},
          "execution_count": 83
        }
      ]
    },
    {
      "cell_type": "code",
      "source": [
        "#skalowanie danych\n",
        "from sklearn.preprocessing import StandardScaler\n",
        "skala = StandardScaler()\n",
        "X_new = skala.fit_transform(X)"
      ],
      "metadata": {
        "id": "NvKob8Ed9wuv"
      },
      "execution_count": 88,
      "outputs": []
    },
    {
      "cell_type": "code",
      "source": [
        "model_PCA= PCA(n_components=2)\n",
        "X_final =model_PCA.fit_transform(X_new)"
      ],
      "metadata": {
        "id": "M_cHLGSU_P31"
      },
      "execution_count": 92,
      "outputs": []
    },
    {
      "cell_type": "code",
      "source": [
        "X_new.mean()"
      ],
      "metadata": {
        "colab": {
          "base_uri": "https://localhost:8080/"
        },
        "id": "w0Lnee8d_c7P",
        "outputId": "dc7f8a42-2e5d-4d8d-ad8d-e30d74c1e828"
      },
      "execution_count": 90,
      "outputs": [
        {
          "output_type": "execute_result",
          "data": {
            "text/plain": [
              "-6.118909323768877e-16"
            ]
          },
          "metadata": {},
          "execution_count": 90
        }
      ]
    },
    {
      "cell_type": "code",
      "source": [
        "X_new.var()"
      ],
      "metadata": {
        "colab": {
          "base_uri": "https://localhost:8080/"
        },
        "id": "d_g2Yni__ibY",
        "outputId": "c5e94e93-cc08-4b8d-d92d-53d00dd0ef44"
      },
      "execution_count": 91,
      "outputs": [
        {
          "output_type": "execute_result",
          "data": {
            "text/plain": [
              "1.0"
            ]
          },
          "metadata": {},
          "execution_count": 91
        }
      ]
    },
    {
      "cell_type": "code",
      "source": [
        "rakDF = pd.DataFrame(data=X_final, columns=['skladowa1','skladowa2'])"
      ],
      "metadata": {
        "id": "ZuVDrvmgADQB"
      },
      "execution_count": 96,
      "outputs": []
    },
    {
      "cell_type": "code",
      "source": [
        "#sprawdzamy ile nam ucięło wariancji z model_PCA\n",
        "model_PCA.explained_variance_ratio_"
      ],
      "metadata": {
        "colab": {
          "base_uri": "https://localhost:8080/"
        },
        "id": "93NMlXOyAi8u",
        "outputId": "100e08b3-7f59-4a3e-a2dd-9526acf7be6e"
      },
      "execution_count": 97,
      "outputs": [
        {
          "output_type": "execute_result",
          "data": {
            "text/plain": [
              "array([0.44272026, 0.18971182])"
            ]
          },
          "metadata": {},
          "execution_count": 97
        }
      ]
    },
    {
      "cell_type": "markdown",
      "source": [
        "skladowa1 przyjęła 44% wariancji, a skladowa2 przyjęła 19%"
      ],
      "metadata": {
        "id": "thGUby_bBbP1"
      }
    },
    {
      "cell_type": "code",
      "source": [
        "wina = datasets.load_wine()\n",
        "X=wina.data\n",
        "y=wina.target"
      ],
      "metadata": {
        "id": "QBQ_UMAoBfA7"
      },
      "execution_count": 107,
      "outputs": []
    },
    {
      "cell_type": "code",
      "source": [
        "X_train,X_test,y_train,y_test=model_selection.train_test_split(X,y)"
      ],
      "metadata": {
        "id": "vYpJxn74Dzdn"
      },
      "execution_count": 108,
      "outputs": []
    },
    {
      "cell_type": "code",
      "source": [
        "skala= StandardScaler()\n",
        "X_train = skala.fit_transform(X_train)\n",
        "X_test=skala.fit_transform(X_test)\n",
        "model_pca=PCA(n_components=0.9)\n",
        "X_tr = model_pca.fit_transform(X_train)\n",
        "X_test = model_pca.transform(X_test)"
      ],
      "metadata": {
        "id": "7zKkyX6XEFTn"
      },
      "execution_count": 112,
      "outputs": []
    },
    {
      "cell_type": "code",
      "source": [
        "model_pca.n_components_"
      ],
      "metadata": {
        "colab": {
          "base_uri": "https://localhost:8080/"
        },
        "id": "8DWX2HuTFJMR",
        "outputId": "42fc9a1d-d565-4e73-a56f-f51a8ce82a35"
      },
      "execution_count": 113,
      "outputs": [
        {
          "output_type": "execute_result",
          "data": {
            "text/plain": [
              "8"
            ]
          },
          "metadata": {},
          "execution_count": 113
        }
      ]
    }
  ]
}