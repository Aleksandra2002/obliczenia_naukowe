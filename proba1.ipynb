{
  "nbformat": 4,
  "nbformat_minor": 0,
  "metadata": {
    "colab": {
      "name": "pd.ipynb",
      "provenance": [],
      "authorship_tag": "ABX9TyM7PdEiVdvxfbndelwwFJaZ",
      "include_colab_link": true
    },
    "kernelspec": {
      "name": "python3",
      "display_name": "Python 3"
    },
    "language_info": {
      "name": "python"
    }
  },
  "cells": [
    {
      "cell_type": "markdown",
      "metadata": {
        "id": "view-in-github",
        "colab_type": "text"
      },
      "source": [
        "<a href=\"https://colab.research.google.com/github/Aleksandra2002/obliczenia_naukowe/blob/main/proba1.ipynb\" target=\"_parent\"><img src=\"https://colab.research.google.com/assets/colab-badge.svg\" alt=\"Open In Colab\"/></a>"
      ]
    },
    {
      "cell_type": "markdown",
      "source": [
        "## Zadanie domowe\n",
        "a) Napisz funkcję obliczającą wartość wielomianu interpolacyjnego Lagrange'a w zadanym punkcie. Funkcja powinna przyjmować następujące argumenty:\n",
        "\n",
        "X - tablicę wartości  xi ,\n",
        "Y - tablicę wartości  yi ,\n",
        "x - punkt, w którym liczymy wartość wielomianu.\n",
        "\n",
        "b) Dodaj opcjonalny argument do powyższej funkcji, który pozwoli wyświetlić wzór interpolacyjny Lagrange'a w postaci symbolicznej.\n",
        "\n",
        "c) sporządź wykres otrzymanego wielomianu na podstawie symbolicznego wzoru z b)\n",
        "\n",
        "d) wybierz dwie funkcje: wielomian stopnia 5 i inną funkcję niebędącą wielomianem. Sporządź ich aproksymacje za pomocą 4 wybranych punktów. Porównaj wykresy oryginalnych funkcji i ich przybliżeń. Sformułuj wnioski."
      ],
      "metadata": {
        "id": "WQtYwWpO1m6t"
      }
    },
    {
      "cell_type": "code",
      "source": [
        "from sympy import *\n",
        "import math"
      ],
      "metadata": {
        "id": "Vh6AwhaSPhgq"
      },
      "execution_count": 91,
      "outputs": []
    },
    {
      "cell_type": "code",
      "source": [
        "#obliczanie wartości wielomianu GIT\n",
        "#X - lista wartości xi\n",
        "#Y - lista wartości yi\n",
        "#x - punkt w którym liczy się wartość\n",
        "def wart_wiel(X,Y,x):\n",
        "  w = 0\n",
        "  for i in range(len(X)):\n",
        "    w += Y[i-2]*(((x-X[i-1])*(x-X[i]))/((X[i-2]-X[i-1])*(X[i-2]-X[i])))\n",
        "  return w\n",
        "wart_wiel([1,2,3],[1,0,1],-1) #przykład"
      ],
      "metadata": {
        "colab": {
          "base_uri": "https://localhost:8080/"
        },
        "id": "-E8f12C__Vkm",
        "outputId": "a87b1126-c947-4228-ddab-d6d507d27346"
      },
      "execution_count": 88,
      "outputs": [
        {
          "output_type": "execute_result",
          "data": {
            "text/plain": [
              "9.0"
            ]
          },
          "metadata": {},
          "execution_count": 88
        }
      ]
    },
    {
      "cell_type": "code",
      "source": [
        "#obliczanie wartości wielomianu\n",
        "#a - lista kolejnych współczynników wielomianu\n",
        "#x - punkt w którym liczymy wartość wielomianu\n",
        "def wart_wiel(a, x):\n",
        "  w = 0\n",
        "  for i in range( len(a)):\n",
        "    w += a[i] * (x**i)\n",
        "  return w\n",
        "print(wart_wiel([2,3,1],3))  #przykład"
      ],
      "metadata": {
        "colab": {
          "base_uri": "https://localhost:8080/"
        },
        "id": "pSnB3sN35lv-",
        "outputId": "a2618143-1905-4ae6-bf68-f60cde0a4edf"
      },
      "execution_count": 89,
      "outputs": [
        {
          "output_type": "stream",
          "name": "stdout",
          "text": [
            "20\n"
          ]
        }
      ]
    }
  ]
}