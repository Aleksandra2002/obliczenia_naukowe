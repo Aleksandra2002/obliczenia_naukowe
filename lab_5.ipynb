{
  "nbformat": 4,
  "nbformat_minor": 0,
  "metadata": {
    "colab": {
      "name": "Untitled3.ipynb",
      "provenance": [],
      "authorship_tag": "ABX9TyMse9ThtYlhzp06svKpxTb5",
      "include_colab_link": true
    },
    "kernelspec": {
      "name": "python3",
      "display_name": "Python 3"
    },
    "language_info": {
      "name": "python"
    }
  },
  "cells": [
    {
      "cell_type": "markdown",
      "metadata": {
        "id": "view-in-github",
        "colab_type": "text"
      },
      "source": [
        "<a href=\"https://colab.research.google.com/github/Aleksandra2002/obliczenia_naukowe/blob/main/lab_5.ipynb\" target=\"_parent\"><img src=\"https://colab.research.google.com/assets/colab-badge.svg\" alt=\"Open In Colab\"/></a>"
      ]
    },
    {
      "cell_type": "code",
      "execution_count": null,
      "metadata": {
        "id": "qRgjLQFkjDLu"
      },
      "outputs": [],
      "source": [
        "import numpy as np\n",
        "from scipy.linalg import block_diag"
      ]
    },
    {
      "cell_type": "code",
      "source": [
        "Mat1=block_diag(np.ones((2,2)),np.zeros((2,2)),3,(4*np.ones((2,2))-2*np.diag((1,1))))"
      ],
      "metadata": {
        "id": "FesHDBEcjNvc"
      },
      "execution_count": null,
      "outputs": []
    },
    {
      "cell_type": "code",
      "source": [
        "Mat1.reshape((1,49)) #zmiana kształtu tablicy"
      ],
      "metadata": {
        "colab": {
          "base_uri": "https://localhost:8080/"
        },
        "id": "Fb1tLU67jzuA",
        "outputId": "51e38e00-9830-49e1-a795-544fbe714992"
      },
      "execution_count": null,
      "outputs": [
        {
          "output_type": "execute_result",
          "data": {
            "text/plain": [
              "array([[1., 1., 0., 0., 0., 0., 0., 1., 1., 0., 0., 0., 0., 0., 0., 0.,\n",
              "        0., 0., 0., 0., 0., 0., 0., 0., 0., 0., 0., 0., 0., 0., 0., 0.,\n",
              "        3., 0., 0., 0., 0., 0., 0., 0., 2., 4., 0., 0., 0., 0., 0., 4.,\n",
              "        2.]])"
            ]
          },
          "metadata": {},
          "execution_count": 6
        }
      ]
    },
    {
      "cell_type": "code",
      "source": [
        "tab=np.array([[2,3],[4,5],[6,7]])\n",
        "tab"
      ],
      "metadata": {
        "colab": {
          "base_uri": "https://localhost:8080/"
        },
        "id": "b2pNE2AZkBvx",
        "outputId": "e5ce4cf5-a956-46d9-b494-a6710aa23083"
      },
      "execution_count": null,
      "outputs": [
        {
          "output_type": "execute_result",
          "data": {
            "text/plain": [
              "array([[2, 3],\n",
              "       [4, 5],\n",
              "       [6, 7]])"
            ]
          },
          "metadata": {},
          "execution_count": 11
        }
      ]
    },
    {
      "cell_type": "code",
      "source": [
        "tab.reshape(-1) #wszystkie wartości tablicy w liście"
      ],
      "metadata": {
        "colab": {
          "base_uri": "https://localhost:8080/"
        },
        "id": "a-kYeUcLkQcY",
        "outputId": "f12ca18c-19dd-4a6a-f4c2-278e8e88f30d"
      },
      "execution_count": null,
      "outputs": [
        {
          "output_type": "execute_result",
          "data": {
            "text/plain": [
              "array([2, 3, 4, 5, 6, 7])"
            ]
          },
          "metadata": {},
          "execution_count": 27
        }
      ]
    },
    {
      "cell_type": "code",
      "source": [
        "tab2=np.arange(1,17) #lista od 1 do 16\n",
        "tab2.reshape((4,4))"
      ],
      "metadata": {
        "colab": {
          "base_uri": "https://localhost:8080/"
        },
        "id": "bo-O3tRWlBkD",
        "outputId": "ee65df5a-2f7d-433c-d1be-bf4491951458"
      },
      "execution_count": null,
      "outputs": [
        {
          "output_type": "execute_result",
          "data": {
            "text/plain": [
              "array([[ 1,  2,  3,  4],\n",
              "       [ 5,  6,  7,  8],\n",
              "       [ 9, 10, 11, 12],\n",
              "       [13, 14, 15, 16]])"
            ]
          },
          "metadata": {},
          "execution_count": 21
        }
      ]
    },
    {
      "cell_type": "code",
      "source": [
        "tab3=np.array([[1,2]])\n",
        "tab4=np.array([[2],[1]])\n",
        "tab8=tab3+tab4"
      ],
      "metadata": {
        "id": "QxQ7jBdhnKYr"
      },
      "execution_count": null,
      "outputs": []
    },
    {
      "cell_type": "code",
      "source": [
        "tab5=np.ones((2,2))"
      ],
      "metadata": {
        "id": "K8A8gKN6oZoP"
      },
      "execution_count": null,
      "outputs": []
    },
    {
      "cell_type": "code",
      "source": [
        "tab6=np.arange(1,9)\n",
        "tab7=tab6.reshape((2,4))\n",
        "tab7\n",
        "#tab6+tab7 nie da się"
      ],
      "metadata": {
        "colab": {
          "base_uri": "https://localhost:8080/"
        },
        "id": "cBt-DGxzoemz",
        "outputId": "d95ed318-b2d5-48be-a553-539f9ed9f068"
      },
      "execution_count": null,
      "outputs": [
        {
          "output_type": "execute_result",
          "data": {
            "text/plain": [
              "array([[1, 2, 3, 4],\n",
              "       [5, 6, 7, 8]])"
            ]
          },
          "metadata": {},
          "execution_count": 38
        }
      ]
    },
    {
      "cell_type": "code",
      "source": [
        "#zadanie do domu 5x6x3 \n",
        "#numpy mnoży każdy element"
      ],
      "metadata": {
        "id": "1MjrNIaQpnKo"
      },
      "execution_count": null,
      "outputs": []
    },
    {
      "cell_type": "code",
      "source": [
        "tab9=3*np.eye(2)*np.ones((2,2)) #mnoży każdy element ze sobą, nie jak w algebrze\n",
        "tab9"
      ],
      "metadata": {
        "colab": {
          "base_uri": "https://localhost:8080/"
        },
        "id": "KwBqRX5Jp8Dt",
        "outputId": "721ada52-6bfb-4314-a755-67ac39570aae"
      },
      "execution_count": null,
      "outputs": [
        {
          "output_type": "execute_result",
          "data": {
            "text/plain": [
              "array([[3., 0.],\n",
              "       [0., 3.]])"
            ]
          },
          "metadata": {},
          "execution_count": 46
        }
      ]
    },
    {
      "cell_type": "code",
      "source": [
        "A=np.sin(tab7) #sin każdego wyrazu tablicy\n",
        "A"
      ],
      "metadata": {
        "colab": {
          "base_uri": "https://localhost:8080/"
        },
        "id": "8hoJoxTRqXb5",
        "outputId": "ca09950f-6a8a-4b95-b25a-5770748107ef"
      },
      "execution_count": null,
      "outputs": [
        {
          "output_type": "execute_result",
          "data": {
            "text/plain": [
              "array([[ 0.84147098,  0.90929743,  0.14112001, -0.7568025 ],\n",
              "       [-0.95892427, -0.2794155 ,  0.6569866 ,  0.98935825]])"
            ]
          },
          "metadata": {},
          "execution_count": 52
        }
      ]
    },
    {
      "cell_type": "code",
      "source": [
        "tab8**tab9 #potęgowanie tablicy do potęgi tablicy"
      ],
      "metadata": {
        "colab": {
          "base_uri": "https://localhost:8080/"
        },
        "id": "g_CEFkbHqjHC",
        "outputId": "1e60880b-8703-4885-fdec-5591691840f9"
      },
      "execution_count": null,
      "outputs": [
        {
          "output_type": "execute_result",
          "data": {
            "text/plain": [
              "array([[27.,  1.],\n",
              "       [ 1., 27.]])"
            ]
          },
          "metadata": {},
          "execution_count": 50
        }
      ]
    },
    {
      "cell_type": "code",
      "source": [
        "A.T #transponowanie A"
      ],
      "metadata": {
        "colab": {
          "base_uri": "https://localhost:8080/"
        },
        "id": "Ir0yFe09rJRz",
        "outputId": "04916fff-8cce-4096-c095-bc5aa16a0809"
      },
      "execution_count": null,
      "outputs": [
        {
          "output_type": "execute_result",
          "data": {
            "text/plain": [
              "array([[ 0.84147098, -0.95892427],\n",
              "       [ 0.90929743, -0.2794155 ],\n",
              "       [ 0.14112001,  0.6569866 ],\n",
              "       [-0.7568025 ,  0.98935825]])"
            ]
          },
          "metadata": {},
          "execution_count": 53
        }
      ]
    },
    {
      "cell_type": "code",
      "source": [
        "B=np.arange(1,17)\n",
        "B\n",
        "B.T #transpozycja na wektorach nie działa bo B.T=B"
      ],
      "metadata": {
        "colab": {
          "base_uri": "https://localhost:8080/"
        },
        "id": "ncT47g4OrPlQ",
        "outputId": "3f52fe21-0c22-49c4-e4c9-f0436338a8ed"
      },
      "execution_count": null,
      "outputs": [
        {
          "output_type": "execute_result",
          "data": {
            "text/plain": [
              "array([ 1,  2,  3,  4,  5,  6,  7,  8,  9, 10, 11, 12, 13, 14, 15, 16])"
            ]
          },
          "metadata": {},
          "execution_count": 57
        }
      ]
    },
    {
      "cell_type": "markdown",
      "source": [
        "## AGREGACJA"
      ],
      "metadata": {
        "id": "Cb2OOyVMrmg5"
      }
    },
    {
      "cell_type": "code",
      "source": [
        "tab"
      ],
      "metadata": {
        "colab": {
          "base_uri": "https://localhost:8080/"
        },
        "id": "ydiw_H0cro01",
        "outputId": "fac5783a-3e8e-4142-c947-44dbac0e74f1"
      },
      "execution_count": null,
      "outputs": [
        {
          "output_type": "execute_result",
          "data": {
            "text/plain": [
              "array([[2, 3],\n",
              "       [4, 5],\n",
              "       [6, 7]])"
            ]
          },
          "metadata": {},
          "execution_count": 59
        }
      ]
    },
    {
      "cell_type": "code",
      "source": [
        "np.mean(tab,axis=0) #srednia wzdłuż kolumn\n",
        "np.mean(tab,axis=1) #srednia wzdluz wierszy"
      ],
      "metadata": {
        "colab": {
          "base_uri": "https://localhost:8080/"
        },
        "id": "W4rpl4RGrxkM",
        "outputId": "1bb3cebe-ea85-44e1-bf3b-445dc3cbf429"
      },
      "execution_count": null,
      "outputs": [
        {
          "output_type": "execute_result",
          "data": {
            "text/plain": [
              "array([2.5, 4.5, 6.5])"
            ]
          },
          "metadata": {},
          "execution_count": 63
        }
      ]
    },
    {
      "cell_type": "code",
      "source": [
        "tablica=np.random.random(100)\n",
        "tablica\n",
        "np.sum(tablica)"
      ],
      "metadata": {
        "colab": {
          "base_uri": "https://localhost:8080/"
        },
        "id": "xTg-ZUVbsjSI",
        "outputId": "f564b833-54e5-4c9d-ed4d-f8910dee044a"
      },
      "execution_count": null,
      "outputs": [
        {
          "output_type": "execute_result",
          "data": {
            "text/plain": [
              "46.19077695078282"
            ]
          },
          "metadata": {},
          "execution_count": 67
        }
      ]
    },
    {
      "cell_type": "code",
      "source": [
        "np.cumsum(tab7) "
      ],
      "metadata": {
        "colab": {
          "base_uri": "https://localhost:8080/"
        },
        "id": "vLAdt6G0s-im",
        "outputId": "867487fc-98d8-406a-9cd1-1c44bebe21c0"
      },
      "execution_count": null,
      "outputs": [
        {
          "output_type": "execute_result",
          "data": {
            "text/plain": [
              "array([ 1,  3,  6, 10, 15, 21, 28, 36])"
            ]
          },
          "metadata": {},
          "execution_count": 69
        }
      ]
    },
    {
      "cell_type": "code",
      "source": [
        "np.cumsum(tab7,axis=1)"
      ],
      "metadata": {
        "colab": {
          "base_uri": "https://localhost:8080/"
        },
        "id": "j6xq605stQGK",
        "outputId": "1edc1eb9-d167-4676-e0e0-7aa7aadea2bc"
      },
      "execution_count": null,
      "outputs": [
        {
          "output_type": "execute_result",
          "data": {
            "text/plain": [
              "array([[ 1,  3,  6, 10],\n",
              "       [ 5, 11, 18, 26]])"
            ]
          },
          "metadata": {},
          "execution_count": 70
        }
      ]
    },
    {
      "cell_type": "code",
      "source": [
        "tab7>5"
      ],
      "metadata": {
        "colab": {
          "base_uri": "https://localhost:8080/"
        },
        "id": "-3u0Jn8RtbdG",
        "outputId": "0221724c-467e-4eb6-b8bf-1fc5a4b0b78e"
      },
      "execution_count": null,
      "outputs": [
        {
          "output_type": "execute_result",
          "data": {
            "text/plain": [
              "array([[False, False, False, False],\n",
              "       [False,  True,  True,  True]])"
            ]
          },
          "metadata": {},
          "execution_count": 71
        }
      ]
    },
    {
      "cell_type": "code",
      "source": [
        "tab7[tab7>5] #tworzy liste tych wartosci ktore spelniaja warunek"
      ],
      "metadata": {
        "colab": {
          "base_uri": "https://localhost:8080/"
        },
        "id": "0gaDMgezt0b4",
        "outputId": "6f48f996-6ef7-41a0-a31d-7dba87f667b4"
      },
      "execution_count": null,
      "outputs": [
        {
          "output_type": "execute_result",
          "data": {
            "text/plain": [
              "array([6, 7, 8])"
            ]
          },
          "metadata": {},
          "execution_count": 73
        }
      ]
    },
    {
      "cell_type": "code",
      "source": [
        "tab7*(tab7>5) #1 gdy true, 0 gdy False"
      ],
      "metadata": {
        "colab": {
          "base_uri": "https://localhost:8080/"
        },
        "id": "xFbJ86kUuPn0",
        "outputId": "854f87a1-38c6-4bae-cef4-8a2eaf78552a"
      },
      "execution_count": null,
      "outputs": [
        {
          "output_type": "execute_result",
          "data": {
            "text/plain": [
              "array([[0, 0, 0, 0],\n",
              "       [0, 6, 7, 8]])"
            ]
          },
          "metadata": {},
          "execution_count": 74
        }
      ]
    },
    {
      "cell_type": "code",
      "source": [
        "#nie da się ifa po tablicach"
      ],
      "metadata": {
        "id": "cHuSxZV_ur9j"
      },
      "execution_count": null,
      "outputs": []
    },
    {
      "cell_type": "code",
      "source": [
        "#można tylko all lub any\n",
        "if np.all(tab7>5):\n",
        "  print('tak')\n",
        "else:\n",
        "  print('nie')"
      ],
      "metadata": {
        "colab": {
          "base_uri": "https://localhost:8080/"
        },
        "id": "_l2BWsQ_usJ4",
        "outputId": "7b884d88-e43b-4585-adb8-ca2708721392"
      },
      "execution_count": null,
      "outputs": [
        {
          "output_type": "stream",
          "name": "stdout",
          "text": [
            "nie\n"
          ]
        }
      ]
    },
    {
      "cell_type": "code",
      "source": [
        "L=np.arange(1,17).reshape((4,4))\n",
        "L\n",
        "x=np.array([1,2,3,4])\n",
        "y=np.array([0,4,1,6])"
      ],
      "metadata": {
        "id": "YrcWo440u954"
      },
      "execution_count": null,
      "outputs": []
    },
    {
      "cell_type": "code",
      "source": [
        "x<y #wiersz"
      ],
      "metadata": {
        "colab": {
          "base_uri": "https://localhost:8080/"
        },
        "id": "4haSLupFvRyN",
        "outputId": "007f82bd-d300-43b4-8c5d-55eb691ca0a7"
      },
      "execution_count": null,
      "outputs": [
        {
          "output_type": "execute_result",
          "data": {
            "text/plain": [
              "array([False,  True, False,  True])"
            ]
          },
          "metadata": {},
          "execution_count": 83
        }
      ]
    },
    {
      "cell_type": "code",
      "source": [
        "L[x<y] #slad na tabeli L, wzielo tylko 2 i 4 wiersz z L, bierze w pionie\n",
        "#bo 2 i 4 true w x<y"
      ],
      "metadata": {
        "colab": {
          "base_uri": "https://localhost:8080/"
        },
        "id": "sK4pu_rsvVi5",
        "outputId": "813add0e-52a8-4e5c-e260-50666f4f401e"
      },
      "execution_count": null,
      "outputs": [
        {
          "output_type": "execute_result",
          "data": {
            "text/plain": [
              "array([[ 5,  6,  7,  8],\n",
              "       [13, 14, 15, 16]])"
            ]
          },
          "metadata": {},
          "execution_count": 85
        }
      ]
    },
    {
      "cell_type": "code",
      "source": [
        "#praca domowa\n",
        "#maska, zliczyć jedynki czyli suma"
      ],
      "metadata": {
        "id": "q7tDafsQwgKT"
      },
      "execution_count": null,
      "outputs": []
    },
    {
      "cell_type": "markdown",
      "source": [
        "## ALGEBRA LINIOWA"
      ],
      "metadata": {
        "id": "fR09S3q0w9Y6"
      }
    },
    {
      "cell_type": "code",
      "source": [
        "C=np.array([[1,2,4],[4,6,8],[8,10,12]])\n",
        "C"
      ],
      "metadata": {
        "colab": {
          "base_uri": "https://localhost:8080/"
        },
        "id": "thJdWqMAxZuw",
        "outputId": "c6fe2c17-0b0c-4b9c-ed5d-62ccee8fb75e"
      },
      "execution_count": null,
      "outputs": [
        {
          "output_type": "execute_result",
          "data": {
            "text/plain": [
              "array([[ 1,  2,  4],\n",
              "       [ 4,  6,  8],\n",
              "       [ 8, 10, 12]])"
            ]
          },
          "metadata": {},
          "execution_count": 91
        }
      ]
    },
    {
      "cell_type": "code",
      "source": [
        "np.linalg.inv(C) #macierz odwrotna"
      ],
      "metadata": {
        "colab": {
          "base_uri": "https://localhost:8080/"
        },
        "id": "ZKkuz5HvxARV",
        "outputId": "a338d057-7da1-4de4-f0c2-fdf4b1c65753"
      },
      "execution_count": null,
      "outputs": [
        {
          "output_type": "execute_result",
          "data": {
            "text/plain": [
              "array([[ 1.  , -2.  ,  1.  ],\n",
              "       [-2.  ,  2.5 , -1.  ],\n",
              "       [ 1.  , -0.75,  0.25]])"
            ]
          },
          "metadata": {},
          "execution_count": 92
        }
      ]
    },
    {
      "cell_type": "code",
      "source": [
        "#zmiana bazy C=BAB**-1\n",
        "A1=np.array([[2,3],[0,2]])\n",
        "B1=np.array([[2,5],[3,8]])\n",
        "C=np.dot(B1,np.dot(A1,np.linalg.inv(B1)))\n",
        "C\n"
      ],
      "metadata": {
        "colab": {
          "base_uri": "https://localhost:8080/"
        },
        "id": "7z7qDv41yGli",
        "outputId": "63079e2e-5df7-4f3f-bce1-899987cf1577"
      },
      "execution_count": null,
      "outputs": [
        {
          "output_type": "execute_result",
          "data": {
            "text/plain": [
              "array([[-16.,  12.],\n",
              "       [-27.,  20.]])"
            ]
          },
          "metadata": {},
          "execution_count": 99
        }
      ]
    },
    {
      "cell_type": "code",
      "source": [
        "np.linalg.eig(A1)[0]"
      ],
      "metadata": {
        "colab": {
          "base_uri": "https://localhost:8080/"
        },
        "id": "n6QYy6m3zRpI",
        "outputId": "76bd0a74-64ea-455e-8aa1-d5ef7b0e1a7e"
      },
      "execution_count": null,
      "outputs": [
        {
          "output_type": "execute_result",
          "data": {
            "text/plain": [
              "array([2., 2.])"
            ]
          },
          "metadata": {},
          "execution_count": 101
        }
      ]
    },
    {
      "cell_type": "code",
      "source": [
        "np.linalg.eig(A1)[1] #odczytujemy wektor [1,0] i [-1,1]"
      ],
      "metadata": {
        "colab": {
          "base_uri": "https://localhost:8080/"
        },
        "id": "TrgxwuyozWmp",
        "outputId": "04e9874c-10ba-42fc-dcc5-51d76d9a02c3"
      },
      "execution_count": null,
      "outputs": [
        {
          "output_type": "execute_result",
          "data": {
            "text/plain": [
              "array([[ 1.00000000e+00, -1.00000000e+00],\n",
              "       [ 0.00000000e+00,  1.48029737e-16]])"
            ]
          },
          "metadata": {},
          "execution_count": 104
        }
      ]
    },
    {
      "cell_type": "code",
      "source": [
        "np.linalg.eig(A1)[1][:,0]\n",
        "np.linalg.eig(C)[0]"
      ],
      "metadata": {
        "colab": {
          "base_uri": "https://localhost:8080/"
        },
        "id": "np1N5PBDzt1p",
        "outputId": "5843ce55-a9df-4176-d8f5-cd17e02ce40a"
      },
      "execution_count": null,
      "outputs": [
        {
          "output_type": "execute_result",
          "data": {
            "text/plain": [
              "array([2.+1.97405238e-07j, 2.-1.97405238e-07j])"
            ]
          },
          "metadata": {},
          "execution_count": 112
        }
      ]
    }
  ]
}