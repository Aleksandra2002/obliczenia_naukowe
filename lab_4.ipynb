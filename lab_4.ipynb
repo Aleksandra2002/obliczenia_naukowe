{
  "nbformat": 4,
  "nbformat_minor": 0,
  "metadata": {
    "colab": {
      "name": "lab4.ipynb",
      "provenance": [],
      "authorship_tag": "ABX9TyOQFvAFezfsT7gaDeohxj5V",
      "include_colab_link": true
    },
    "kernelspec": {
      "name": "python3",
      "display_name": "Python 3"
    },
    "language_info": {
      "name": "python"
    }
  },
  "cells": [
    {
      "cell_type": "markdown",
      "metadata": {
        "id": "view-in-github",
        "colab_type": "text"
      },
      "source": [
        "<a href=\"https://colab.research.google.com/github/Aleksandra2002/obliczenia_naukowe/blob/main/lab_4.ipynb\" target=\"_parent\"><img src=\"https://colab.research.google.com/assets/colab-badge.svg\" alt=\"Open In Colab\"/></a>"
      ]
    },
    {
      "cell_type": "markdown",
      "source": [
        "%time - policzy ile czasu robi polecenie (magic)\n",
        "%timeit - liczy "
      ],
      "metadata": {
        "id": "UP8yr4YUdzQC"
      }
    },
    {
      "cell_type": "code",
      "execution_count": 5,
      "metadata": {
        "colab": {
          "base_uri": "https://localhost:8080/"
        },
        "id": "kXNNZy7jcyAP",
        "outputId": "5ef6821c-fbff-4acd-80f4-3b23d041fb68"
      },
      "outputs": [
        {
          "output_type": "execute_result",
          "data": {
            "text/plain": [
              "array([0.        , 0.11111111, 0.22222222, 0.33333333, 0.44444444,\n",
              "       0.55555556, 0.66666667, 0.77777778, 0.88888889, 1.        ])"
            ]
          },
          "metadata": {},
          "execution_count": 5
        }
      ],
      "source": [
        "import numpy as np\n",
        "#funkcja licząca pole między wykresem a osią OX\n",
        "#wyr - funkcja\n",
        "#przedział (a,b)\n",
        "#N - liczba kroków/podziałów\n",
        "#N-1 - liczba odcinków\n",
        "np.linspace(0,1,10) #podział na N punktów"
      ]
    },
    {
      "cell_type": "code",
      "source": [
        "def calka(funkcja,a,b,N):\n",
        "  podzial=np.linspace(a,b,N)\n",
        "  podstawa = (b-a)/(N-1)\n",
        "  wartosc=0\n",
        "  for i in range (N-1):\n",
        "    wartosc += podstawa*abs(funkcja(podzial[i]))\n",
        "  return wartosc\n",
        "calka(lambda x:x**2,0,1,100)\n",
        "  "
      ],
      "metadata": {
        "colab": {
          "base_uri": "https://localhost:8080/"
        },
        "id": "OA2ygSgqiYxe",
        "outputId": "a85e23e5-ca98-4709-fe87-b68343ddd34a"
      },
      "execution_count": 6,
      "outputs": [
        {
          "output_type": "execute_result",
          "data": {
            "text/plain": [
              "0.3282998333503384"
            ]
          },
          "metadata": {},
          "execution_count": 6
        }
      ]
    },
    {
      "cell_type": "markdown",
      "source": [
        "\n",
        "#NUMPY - tworzy tablice/listy\n",
        "\n"
      ],
      "metadata": {
        "id": "kZE4iu2robo7"
      }
    },
    {
      "cell_type": "markdown",
      "source": [
        "ndim - ile ma wymiarów\n",
        "size - ile ma elementów ta tablica\n",
        "dtype - jakie mamy typy\n",
        "nbytes - ile zajmuje pamięci tablica"
      ],
      "metadata": {
        "id": "Q_CXqS7Vo7Tk"
      }
    },
    {
      "cell_type": "code",
      "source": [
        "tab =np.array([[1,2],[3,4],[4,1]])\n",
        "tab.dtype"
      ],
      "metadata": {
        "colab": {
          "base_uri": "https://localhost:8080/"
        },
        "id": "UDV6506oojZQ",
        "outputId": "2847e217-7ab3-4eef-862e-db9c3941ee15"
      },
      "execution_count": null,
      "outputs": [
        {
          "output_type": "execute_result",
          "data": {
            "text/plain": [
              "dtype('int64')"
            ]
          },
          "metadata": {},
          "execution_count": 22
        }
      ]
    },
    {
      "cell_type": "code",
      "source": [
        "tablica = np.array([[1,3,5],[1,6,8],[3,4,5],[3,4,9]])\n",
        "print (tablica.size, tablica.ndim,tablica.nbytes)"
      ],
      "metadata": {
        "colab": {
          "base_uri": "https://localhost:8080/"
        },
        "id": "09yJVMJEpt4M",
        "outputId": "ee8a8fc6-b7a6-4c34-e4f8-4e117f96167b"
      },
      "execution_count": null,
      "outputs": [
        {
          "output_type": "stream",
          "name": "stdout",
          "text": [
            "12 2 96\n"
          ]
        }
      ]
    },
    {
      "cell_type": "code",
      "source": [
        "#zamiana typu z int na float\n",
        "tablica1=np.array(tablica,dtype=float)\n",
        "tablica1"
      ],
      "metadata": {
        "colab": {
          "base_uri": "https://localhost:8080/"
        },
        "id": "LYBAR0QyqOjt",
        "outputId": "5e1be880-8edc-41f5-b81a-ec696d73b4a5"
      },
      "execution_count": null,
      "outputs": [
        {
          "output_type": "execute_result",
          "data": {
            "text/plain": [
              "array([[1., 3., 5.],\n",
              "       [1., 6., 8.],\n",
              "       [3., 4., 5.],\n",
              "       [3., 4., 9.]])"
            ]
          },
          "metadata": {},
          "execution_count": 29
        }
      ]
    },
    {
      "cell_type": "code",
      "source": [
        "tab3=np.array([-1,0,1])\n",
        "np.sqrt(tab3)\n",
        "tab4=tab3.astype(complex) #zamiana int z tab3 na zespolone w tab4\n",
        "tab4\n",
        "np.sqrt(tab4).imag #bierzemy czesci całkowite"
      ],
      "metadata": {
        "colab": {
          "base_uri": "https://localhost:8080/"
        },
        "id": "0JF74m14qkzY",
        "outputId": "a7e8ad0b-d917-404c-c2f3-95545a0e87b5"
      },
      "execution_count": 7,
      "outputs": [
        {
          "output_type": "stream",
          "name": "stderr",
          "text": [
            "/usr/local/lib/python3.7/dist-packages/ipykernel_launcher.py:2: RuntimeWarning: invalid value encountered in sqrt\n",
            "  \n"
          ]
        },
        {
          "output_type": "execute_result",
          "data": {
            "text/plain": [
              "array([1., 0., 0.])"
            ]
          },
          "metadata": {},
          "execution_count": 7
        }
      ]
    },
    {
      "cell_type": "code",
      "source": [
        "np.zeros((3,3))"
      ],
      "metadata": {
        "colab": {
          "base_uri": "https://localhost:8080/"
        },
        "id": "wS8bu8NUrtGG",
        "outputId": "d4def321-1be6-434a-e92d-e23cac2c87ce"
      },
      "execution_count": 8,
      "outputs": [
        {
          "output_type": "execute_result",
          "data": {
            "text/plain": [
              "array([[0., 0., 0.],\n",
              "       [0., 0., 0.],\n",
              "       [0., 0., 0.]])"
            ]
          },
          "metadata": {},
          "execution_count": 8
        }
      ]
    },
    {
      "cell_type": "code",
      "source": [
        "np.meshgrid([1,2,3],['a','b','c'])"
      ],
      "metadata": {
        "colab": {
          "base_uri": "https://localhost:8080/"
        },
        "id": "pkrdzFapsy40",
        "outputId": "4d4896e3-e571-48fe-c2d1-d2f96a6dfd93"
      },
      "execution_count": 9,
      "outputs": [
        {
          "output_type": "execute_result",
          "data": {
            "text/plain": [
              "[array([[1, 2, 3],\n",
              "        [1, 2, 3],\n",
              "        [1, 2, 3]]), array([['a', 'a', 'a'],\n",
              "        ['b', 'b', 'b'],\n",
              "        ['c', 'c', 'c']], dtype='<U1')]"
            ]
          },
          "metadata": {},
          "execution_count": 9
        }
      ]
    },
    {
      "cell_type": "code",
      "source": [
        "np.ones((2,2))\n",
        "np.zeros((7,7))\n",
        "from scipy.linalg import block_diag\n",
        "Mat1=block_diag(np.ones((2,2)),np.zeros((2,2)),3,(4*np.ones((2,2))-2*np.diag((1,1))))"
      ],
      "metadata": {
        "id": "ScIax_WStLMt"
      },
      "execution_count": 10,
      "outputs": []
    },
    {
      "cell_type": "code",
      "source": [
        "Mat1"
      ],
      "metadata": {
        "colab": {
          "base_uri": "https://localhost:8080/"
        },
        "id": "u0HmhacZv1w4",
        "outputId": "52c2151f-382d-47d2-a459-e202e10ed53e"
      },
      "execution_count": 11,
      "outputs": [
        {
          "output_type": "execute_result",
          "data": {
            "text/plain": [
              "array([[1., 1., 0., 0., 0., 0., 0.],\n",
              "       [1., 1., 0., 0., 0., 0., 0.],\n",
              "       [0., 0., 0., 0., 0., 0., 0.],\n",
              "       [0., 0., 0., 0., 0., 0., 0.],\n",
              "       [0., 0., 0., 0., 3., 0., 0.],\n",
              "       [0., 0., 0., 0., 0., 2., 4.],\n",
              "       [0., 0., 0., 0., 0., 4., 2.]])"
            ]
          },
          "metadata": {},
          "execution_count": 11
        }
      ]
    },
    {
      "cell_type": "code",
      "source": [
        "Mat1[:,::-1] #odwraca"
      ],
      "metadata": {
        "colab": {
          "base_uri": "https://localhost:8080/"
        },
        "id": "exAMvBUKvHQe",
        "outputId": "29ea6a26-735b-4897-c70c-b8c05d53005b"
      },
      "execution_count": 12,
      "outputs": [
        {
          "output_type": "execute_result",
          "data": {
            "text/plain": [
              "array([[0., 0., 0., 0., 0., 1., 1.],\n",
              "       [0., 0., 0., 0., 0., 1., 1.],\n",
              "       [0., 0., 0., 0., 0., 0., 0.],\n",
              "       [0., 0., 0., 0., 0., 0., 0.],\n",
              "       [0., 0., 3., 0., 0., 0., 0.],\n",
              "       [4., 2., 0., 0., 0., 0., 0.],\n",
              "       [2., 4., 0., 0., 0., 0., 0.]])"
            ]
          },
          "metadata": {},
          "execution_count": 12
        }
      ]
    },
    {
      "cell_type": "code",
      "source": [
        "#zad5\n",
        "Mat1\n",
        "Mat1[0:4,0:4]\n",
        "Mat1[4::,4::]\n",
        "Mat2=block_diag(Mat1[0:4,0:4],Mat1[4::,4::])\n",
        "Mat2"
      ],
      "metadata": {
        "colab": {
          "base_uri": "https://localhost:8080/"
        },
        "id": "mZxJour2vQPs",
        "outputId": "82cda6d6-5dc0-4157-de94-605c6304b442"
      },
      "execution_count": 13,
      "outputs": [
        {
          "output_type": "execute_result",
          "data": {
            "text/plain": [
              "array([[1., 1., 0., 0., 0., 0., 0.],\n",
              "       [1., 1., 0., 0., 0., 0., 0.],\n",
              "       [0., 0., 0., 0., 0., 0., 0.],\n",
              "       [0., 0., 0., 0., 0., 0., 0.],\n",
              "       [0., 0., 0., 0., 3., 0., 0.],\n",
              "       [0., 0., 0., 0., 0., 2., 4.],\n",
              "       [0., 0., 0., 0., 0., 4., 2.]])"
            ]
          },
          "metadata": {},
          "execution_count": 13
        }
      ]
    },
    {
      "cell_type": "code",
      "source": [
        "Mat3=Mat2[1::2,1::2].copy()\n",
        "Mat3\n",
        "Mat3[0,0]=100"
      ],
      "metadata": {
        "id": "L7AJPURfwn0O"
      },
      "execution_count": 15,
      "outputs": []
    },
    {
      "cell_type": "code",
      "source": [
        "#23.03\n",
        "#jak sprawdzic czy \n",
        "Mat3"
      ],
      "metadata": {
        "id": "FX9GJrS_hoQM",
        "outputId": "72c26674-265b-41c0-bee2-837e219782e0",
        "colab": {
          "base_uri": "https://localhost:8080/"
        }
      },
      "execution_count": 16,
      "outputs": [
        {
          "output_type": "execute_result",
          "data": {
            "text/plain": [
              "array([[100.,   0.,   0.],\n",
              "       [  0.,   0.,   0.],\n",
              "       [  0.,   0.,   2.]])"
            ]
          },
          "metadata": {},
          "execution_count": 16
        }
      ]
    },
    {
      "cell_type": "code",
      "source": [
        "Mat2"
      ],
      "metadata": {
        "id": "EVPiBUDFh5Gx",
        "outputId": "9d8c5ed0-ac68-4a76-df43-e6d907801ddc",
        "colab": {
          "base_uri": "https://localhost:8080/"
        }
      },
      "execution_count": 19,
      "outputs": [
        {
          "output_type": "execute_result",
          "data": {
            "text/plain": [
              "array([[  1.,   1.,   0.,   0.,   0.,   0.,   0.],\n",
              "       [  1., 100.,   0.,   0.,   0.,   0.,   0.],\n",
              "       [  0.,   0.,   0.,   0.,   0.,   0.,   0.],\n",
              "       [  0.,   0.,   0.,   0.,   0.,   0.,   0.],\n",
              "       [  0.,   0.,   0.,   0.,   3.,   0.,   0.],\n",
              "       [  0.,   0.,   0.,   0.,   0.,   2.,   4.],\n",
              "       [  0.,   0.,   0.,   0.,   0.,   4.,   2.]])"
            ]
          },
          "metadata": {},
          "execution_count": 19
        }
      ]
    },
    {
      "cell_type": "code",
      "source": [
        "print(Mat3.base)"
      ],
      "metadata": {
        "id": "pzDic-NOickO",
        "outputId": "c520f1a6-a6f5-443c-c1bd-59c8b08d891f",
        "colab": {
          "base_uri": "https://localhost:8080/"
        }
      },
      "execution_count": 18,
      "outputs": [
        {
          "output_type": "stream",
          "name": "stdout",
          "text": [
            "[[  1.   1.   0.   0.   0.   0.   0.]\n",
            " [  1. 100.   0.   0.   0.   0.   0.]\n",
            " [  0.   0.   0.   0.   0.   0.   0.]\n",
            " [  0.   0.   0.   0.   0.   0.   0.]\n",
            " [  0.   0.   0.   0.   3.   0.   0.]\n",
            " [  0.   0.   0.   0.   0.   2.   4.]\n",
            " [  0.   0.   0.   0.   0.   4.   2.]]\n"
          ]
        }
      ]
    },
    {
      "cell_type": "code",
      "source": [
        "Mat4=Mat1[:2,:2]\n",
        "Mat4\n",
        "print(Mat4.base)"
      ],
      "metadata": {
        "id": "vBv7IWUZil7p",
        "outputId": "73c45a1f-85fc-4cb6-97b7-182dbbec433a",
        "colab": {
          "base_uri": "https://localhost:8080/"
        }
      },
      "execution_count": 21,
      "outputs": [
        {
          "output_type": "stream",
          "name": "stdout",
          "text": [
            "[[1. 1. 0. 0. 0. 0. 0.]\n",
            " [1. 1. 0. 0. 0. 0. 0.]\n",
            " [0. 0. 0. 0. 0. 0. 0.]\n",
            " [0. 0. 0. 0. 0. 0. 0.]\n",
            " [0. 0. 0. 0. 3. 0. 0.]\n",
            " [0. 0. 0. 0. 0. 2. 4.]\n",
            " [0. 0. 0. 0. 0. 4. 2.]]\n"
          ]
        }
      ]
    }
  ]
}