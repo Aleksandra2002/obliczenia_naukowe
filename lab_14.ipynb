{
  "nbformat": 4,
  "nbformat_minor": 0,
  "metadata": {
    "colab": {
      "name": "lab14.ipynb",
      "provenance": [],
      "authorship_tag": "ABX9TyPEiDhbtvMYIlc91hSKCM2p",
      "include_colab_link": true
    },
    "kernelspec": {
      "name": "python3",
      "display_name": "Python 3"
    },
    "language_info": {
      "name": "python"
    }
  },
  "cells": [
    {
      "cell_type": "markdown",
      "metadata": {
        "id": "view-in-github",
        "colab_type": "text"
      },
      "source": [
        "<a href=\"https://colab.research.google.com/github/Aleksandra2002/obliczenia_naukowe/blob/main/lab_14.ipynb\" target=\"_parent\"><img src=\"https://colab.research.google.com/assets/colab-badge.svg\" alt=\"Open In Colab\"/></a>"
      ]
    },
    {
      "cell_type": "markdown",
      "source": [
        "#REGRESJA LINIOWA"
      ],
      "metadata": {
        "id": "mSTaFdpuwsTI"
      }
    },
    {
      "cell_type": "code",
      "execution_count": 3,
      "metadata": {
        "id": "cetNjh54viGZ"
      },
      "outputs": [],
      "source": [
        "from sklearn import datasets #różne zbiory danych\n",
        "from sklearn import model_selection #podział danych na uczące i testowe\n",
        "from sklearn import linear_model\n",
        "from sklearn import metrics #miary do oceny pracy modelu\n",
        "import matplotlib.pyplot as plt\n",
        "import numpy as np\n",
        "import pandas as pd"
      ]
    },
    {
      "cell_type": "code",
      "source": [
        "x_all, y_all = datasets.make_regression(n_samples=50, n_features =50, n_informative=10) #kategorie dane, wynik, ilość istotnych danych, random =...)"
      ],
      "metadata": {
        "id": "FqOt-9FGxfWu"
      },
      "execution_count": 7,
      "outputs": []
    },
    {
      "cell_type": "code",
      "source": [
        "y_all.shape"
      ],
      "metadata": {
        "colab": {
          "base_uri": "https://localhost:8080/"
        },
        "id": "wWGXQ5iNx8c3",
        "outputId": "aa51d419-d2c4-4d04-bbb8-72df9b2714bc"
      },
      "execution_count": 6,
      "outputs": [
        {
          "output_type": "execute_result",
          "data": {
            "text/plain": [
              "(50,)"
            ]
          },
          "metadata": {},
          "execution_count": 6
        }
      ]
    },
    {
      "cell_type": "code",
      "source": [
        "x_train, X_test,y_train, Y_test=model_selection.train_test_split(x_all,y_all,test_size=25)"
      ],
      "metadata": {
        "id": "ra7CHCy5yNdQ"
      },
      "execution_count": 14,
      "outputs": []
    },
    {
      "cell_type": "code",
      "source": [
        "x_train.shape"
      ],
      "metadata": {
        "colab": {
          "base_uri": "https://localhost:8080/"
        },
        "id": "JHQlQ5WVzO8l",
        "outputId": "59c61ae5-ba99-4d4d-e5f6-9e143d6cf7b9"
      },
      "execution_count": 15,
      "outputs": [
        {
          "output_type": "execute_result",
          "data": {
            "text/plain": [
              "(25, 50)"
            ]
          },
          "metadata": {},
          "execution_count": 15
        }
      ]
    },
    {
      "cell_type": "code",
      "source": [
        "model=linear_model.LinearRegression()"
      ],
      "metadata": {
        "id": "MCdOn4u_zXYM"
      },
      "execution_count": 16,
      "outputs": []
    },
    {
      "cell_type": "code",
      "source": [
        "model.fit(x_train, y_train)"
      ],
      "metadata": {
        "colab": {
          "base_uri": "https://localhost:8080/"
        },
        "id": "uKlmarkPz0U8",
        "outputId": "f91decdc-18bc-4d4a-9a78-e2d5b0661787"
      },
      "execution_count": 17,
      "outputs": [
        {
          "output_type": "execute_result",
          "data": {
            "text/plain": [
              "LinearRegression()"
            ]
          },
          "metadata": {},
          "execution_count": 17
        }
      ]
    },
    {
      "cell_type": "code",
      "source": [
        "Y_predict = model.predict(X_test)"
      ],
      "metadata": {
        "id": "CQWOJTRvz-1l"
      },
      "execution_count": 21,
      "outputs": []
    },
    {
      "cell_type": "code",
      "source": [
        "Y_test-Y_predict"
      ],
      "metadata": {
        "colab": {
          "base_uri": "https://localhost:8080/"
        },
        "id": "ojgMFK5k0nXL",
        "outputId": "6198fdd6-bde1-40a5-e58c-d7bca8c9e6b8"
      },
      "execution_count": 23,
      "outputs": [
        {
          "output_type": "execute_result",
          "data": {
            "text/plain": [
              "array([ 124.75538412,  400.9793956 ,  521.17857942,  222.43181461,\n",
              "       -159.51640277,  183.49883858,   44.86530111,  -98.37293462,\n",
              "         -9.61540799,  287.81935458,  201.63532692,  182.82597322,\n",
              "        216.9672568 , -126.78385245, -131.27348475,    3.02212281,\n",
              "         63.68772275,  -45.43026217,  388.45199209,  150.07383667,\n",
              "        114.02093495, -158.17126406,    3.32987341,  493.13058795,\n",
              "        141.66378966])"
            ]
          },
          "metadata": {},
          "execution_count": 23
        }
      ]
    },
    {
      "cell_type": "code",
      "source": [
        "metrics.mean_squared_error(Y_test, Y_predict) #błąd średniokwadratowy"
      ],
      "metadata": {
        "colab": {
          "base_uri": "https://localhost:8080/"
        },
        "id": "aSY4OZLJ05GB",
        "outputId": "e04ba140-41e6-488f-ed3d-03b1103c5bd9"
      },
      "execution_count": 25,
      "outputs": [
        {
          "output_type": "execute_result",
          "data": {
            "text/plain": [
              "51459.110981608144"
            ]
          },
          "metadata": {},
          "execution_count": 25
        }
      ]
    },
    {
      "cell_type": "code",
      "source": [
        "(Y_test-Y_predict).std() #odchylenie standardowe"
      ],
      "metadata": {
        "colab": {
          "base_uri": "https://localhost:8080/"
        },
        "id": "zgzrY9Cf1kjN",
        "outputId": "578819d2-1a9f-45a6-e625-7ef3a5e4eae0"
      },
      "execution_count": 27,
      "outputs": [
        {
          "output_type": "execute_result",
          "data": {
            "text/plain": [
              "192.1277376746259"
            ]
          },
          "metadata": {},
          "execution_count": 27
        }
      ]
    },
    {
      "cell_type": "code",
      "source": [
        "np.sqrt(metrics.mean_squared_error(y_train,model.predict(x_train)))"
      ],
      "metadata": {
        "colab": {
          "base_uri": "https://localhost:8080/"
        },
        "id": "sLakgKSr1ziy",
        "outputId": "c29b2780-6078-466e-9e27-c059d214d811"
      },
      "execution_count": 29,
      "outputs": [
        {
          "output_type": "execute_result",
          "data": {
            "text/plain": [
              "4.1241604475614057e-13"
            ]
          },
          "metadata": {},
          "execution_count": 29
        }
      ]
    },
    {
      "cell_type": "code",
      "source": [
        "model1 = linear_model.Lasso()"
      ],
      "metadata": {
        "id": "wx0HTWGw2KZt"
      },
      "execution_count": 30,
      "outputs": []
    },
    {
      "cell_type": "code",
      "source": [
        "model1.fit(x_train,y_train)"
      ],
      "metadata": {
        "colab": {
          "base_uri": "https://localhost:8080/"
        },
        "id": "XzKitMIS4Dkj",
        "outputId": "da268d5f-4f0f-4f76-f7f5-84d7c194657a"
      },
      "execution_count": 31,
      "outputs": [
        {
          "output_type": "execute_result",
          "data": {
            "text/plain": [
              "Lasso()"
            ]
          },
          "metadata": {},
          "execution_count": 31
        }
      ]
    },
    {
      "cell_type": "code",
      "source": [
        "Y_predict1= model1.predict(X_test)"
      ],
      "metadata": {
        "id": "Is1qzL0Y4M_r"
      },
      "execution_count": 32,
      "outputs": []
    },
    {
      "cell_type": "code",
      "source": [
        "np.sqrt(metrics.mean_squared_error(y_train,model1.predict(x_train)))"
      ],
      "metadata": {
        "colab": {
          "base_uri": "https://localhost:8080/"
        },
        "id": "CFaAzhzd4XWw",
        "outputId": "7abe3d94-d545-48b3-a096-54b3d64ece64"
      },
      "execution_count": 40,
      "outputs": [
        {
          "output_type": "execute_result",
          "data": {
            "text/plain": [
              "5.033104022262644"
            ]
          },
          "metadata": {},
          "execution_count": 40
        }
      ]
    },
    {
      "cell_type": "code",
      "source": [
        "metrics.mean_squared_error(Y_test, Y_predict)"
      ],
      "metadata": {
        "colab": {
          "base_uri": "https://localhost:8080/"
        },
        "id": "XPz0nT2f5Evk",
        "outputId": "d9341efc-06f9-4db8-eaba-fc35bb8054c9"
      },
      "execution_count": 35,
      "outputs": [
        {
          "output_type": "execute_result",
          "data": {
            "text/plain": [
              "51459.110981608144"
            ]
          },
          "metadata": {},
          "execution_count": 35
        }
      ]
    },
    {
      "cell_type": "code",
      "source": [
        "model1.score(x_train,y_train)"
      ],
      "metadata": {
        "colab": {
          "base_uri": "https://localhost:8080/"
        },
        "id": "oA6OJW4157mx",
        "outputId": "513dcb48-b51d-4e26-e43f-2a61dbff9e31"
      },
      "execution_count": 41,
      "outputs": [
        {
          "output_type": "execute_result",
          "data": {
            "text/plain": [
              "0.9992499861536122"
            ]
          },
          "metadata": {},
          "execution_count": 41
        }
      ]
    },
    {
      "cell_type": "code",
      "source": [
        "model1.score(X_test,Y_test)"
      ],
      "metadata": {
        "colab": {
          "base_uri": "https://localhost:8080/"
        },
        "id": "kxz_jopm6CFC",
        "outputId": "5400f9de-c167-4de1-8f52-3187ef3427e2"
      },
      "execution_count": 42,
      "outputs": [
        {
          "output_type": "execute_result",
          "data": {
            "text/plain": [
              "0.8238340191057059"
            ]
          },
          "metadata": {},
          "execution_count": 42
        }
      ]
    },
    {
      "cell_type": "markdown",
      "source": [
        "#Klasyfikacja"
      ],
      "metadata": {
        "id": "Bsc6Qjql7Xc4"
      }
    },
    {
      "cell_type": "code",
      "source": [
        "#chcemy podzielić dane na grupy\n",
        "irysy=datasets.load_iris()"
      ],
      "metadata": {
        "id": "AM9theUf7V-Y"
      },
      "execution_count": 43,
      "outputs": []
    },
    {
      "cell_type": "code",
      "source": [
        "type(irysy)"
      ],
      "metadata": {
        "colab": {
          "base_uri": "https://localhost:8080/"
        },
        "id": "EMEByX0u7ynW",
        "outputId": "656ea8ab-8763-4caa-b504-fd150f2c38c3"
      },
      "execution_count": 48,
      "outputs": [
        {
          "output_type": "execute_result",
          "data": {
            "text/plain": [
              "sklearn.utils.Bunch"
            ]
          },
          "metadata": {},
          "execution_count": 48
        }
      ]
    },
    {
      "cell_type": "code",
      "source": [
        "#print(irysy)\n",
        "X_all=irysy.data\n",
        "Y_all=irysy.target"
      ],
      "metadata": {
        "id": "cf2DhfoS77Eg"
      },
      "execution_count": 71,
      "outputs": []
    },
    {
      "cell_type": "code",
      "source": [
        "x_train, X_test,y_train, Y_test=model_selection.train_test_split(X_all,Y_all)"
      ],
      "metadata": {
        "id": "MmDNJaT586Eu"
      },
      "execution_count": 72,
      "outputs": []
    },
    {
      "cell_type": "code",
      "source": [
        "model=linear_model.LogisticRegression()"
      ],
      "metadata": {
        "id": "7G75tQ0i8_Y9"
      },
      "execution_count": 64,
      "outputs": []
    },
    {
      "cell_type": "code",
      "source": [
        "model.fit(x_train,y_train)"
      ],
      "metadata": {
        "colab": {
          "base_uri": "https://localhost:8080/"
        },
        "id": "6z7BR2yP9K_c",
        "outputId": "f08f2cbc-63cb-47d9-d0f0-6b5cc2c979cb"
      },
      "execution_count": 73,
      "outputs": [
        {
          "output_type": "execute_result",
          "data": {
            "text/plain": [
              "LogisticRegression()"
            ]
          },
          "metadata": {},
          "execution_count": 73
        }
      ]
    },
    {
      "cell_type": "code",
      "source": [
        "from sklearn import neighbors"
      ],
      "metadata": {
        "id": "Nqm4nzOhAAPn"
      },
      "execution_count": 80,
      "outputs": []
    },
    {
      "cell_type": "code",
      "source": [
        "model2 = neighbors.KNeighborsClassifier()"
      ],
      "metadata": {
        "id": "6gT_MQ8fAG0x"
      },
      "execution_count": 74,
      "outputs": []
    },
    {
      "cell_type": "code",
      "source": [
        "x=0\n",
        "y=2"
      ],
      "metadata": {
        "id": "S_lEi5XAA4_b"
      },
      "execution_count": 75,
      "outputs": []
    },
    {
      "cell_type": "code",
      "source": [
        "model2.fit(x_train[:,[x,y]],y_train)"
      ],
      "metadata": {
        "colab": {
          "base_uri": "https://localhost:8080/"
        },
        "id": "cy4XKiOABX1v",
        "outputId": "a8c10359-787b-4e26-ea7f-4a9f594d380c"
      },
      "execution_count": 77,
      "outputs": [
        {
          "output_type": "execute_result",
          "data": {
            "text/plain": [
              "KNeighborsClassifier()"
            ]
          },
          "metadata": {},
          "execution_count": 77
        }
      ]
    },
    {
      "cell_type": "code",
      "source": [
        "KNeighborsClassifier()"
      ],
      "metadata": {
        "colab": {
          "base_uri": "https://localhost:8080/"
        },
        "id": "YtpVXy_kBqgT",
        "outputId": "18718cd5-569a-45e0-eab8-d1692a1cc9bf"
      },
      "execution_count": 83,
      "outputs": [
        {
          "output_type": "execute_result",
          "data": {
            "text/plain": [
              "KNeighborsClassifier()"
            ]
          },
          "metadata": {},
          "execution_count": 83
        }
      ]
    },
    {
      "cell_type": "code",
      "source": [
        ""
      ],
      "metadata": {
        "id": "vmWQeaWsBxNd"
      },
      "execution_count": null,
      "outputs": []
    }
  ]
}