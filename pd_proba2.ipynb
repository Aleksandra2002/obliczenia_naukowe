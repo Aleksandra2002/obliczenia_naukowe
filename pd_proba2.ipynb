{
  "nbformat": 4,
  "nbformat_minor": 0,
  "metadata": {
    "colab": {
      "name": "pd_proba2.ipynb",
      "provenance": [],
      "authorship_tag": "ABX9TyMbgy/73RRk2mWYDw7exd9F",
      "include_colab_link": true
    },
    "kernelspec": {
      "name": "python3",
      "display_name": "Python 3"
    },
    "language_info": {
      "name": "python"
    }
  },
  "cells": [
    {
      "cell_type": "markdown",
      "metadata": {
        "id": "view-in-github",
        "colab_type": "text"
      },
      "source": [
        "<a href=\"https://colab.research.google.com/github/Aleksandra2002/obliczenia_naukowe/blob/main/pd_proba2.ipynb\" target=\"_parent\"><img src=\"https://colab.research.google.com/assets/colab-badge.svg\" alt=\"Open In Colab\"/></a>"
      ]
    },
    {
      "cell_type": "code",
      "execution_count": 1,
      "metadata": {
        "id": "vj-C5yd0CQgu",
        "colab": {
          "base_uri": "https://localhost:8080/",
          "height": 349
        },
        "outputId": "f7550736-b5f8-4134-ec3e-94c353e26da8"
      },
      "outputs": [
        {
          "output_type": "stream",
          "name": "stdout",
          "text": [
            "W to :4.392857142857142wzór:0*(x-3)/(2-3)*(x-10)/(2-10)+2*(x-2)/(3-2)*(x-10)/(3-10)+1*(x-2)/(10-2)*(x-3)/(10-3)\n"
          ]
        },
        {
          "output_type": "display_data",
          "data": {
            "text/plain": [
              "<Figure size 432x288 with 1 Axes>"
            ],
            "image/png": "[encoded data removed]"
          },
          "metadata": {
            "needs_background": "light"
          }
        },
        {
          "output_type": "stream",
          "name": "stdout",
          "text": [
            "0*(x-3)/(2-3)*(x-10)/(2-10)+2*(x-2)/(3-2)*(x-10)/(3-10)+1*(x-2)/(10-2)*(x-3)/(\n",
            "10-3)\n"
          ]
        }
      ],
      "source": [
        "def Lagringo (X,Y,x, symbol):\n",
        "  w=0\n",
        "  if symbol:\n",
        "    sym = ''\n",
        "  for i in range(len(X)):\n",
        "    if i>0:\n",
        "      if symbol:\n",
        "        sym +='+'\n",
        "    iloczyn = 1\n",
        "    if symbol:\n",
        "      sym += str(Y[i])\n",
        "    for j in range (len(Y)):\n",
        "      if i != j:\n",
        "        iloczyn *= (x-X[j])/(X[i]-X[j])\n",
        "        if symbol:\n",
        "          sym += \"*(x-\"+ str(X[j])+ \")/(\"+ str(X[i])+ \"-\"+ str(X[j])+ \")\"\n",
        "    w += Y[i]*iloczyn\n",
        "  if symbol:\n",
        "    return w, sym\n",
        "  else:\n",
        "    return w\n",
        "symbol = True  # False\n",
        "\n",
        "w = Lagringo([2, 3, 10], [0, 2, 1], 5, symbol)\n",
        "if symbol:\n",
        "    print(\"W to :\" + str(w[0]) + \"wzór:\" + w[1])\n",
        "else:\n",
        "    print(\"W to :\" + str(w))\n",
        "\n",
        "from sympy import symbols\n",
        "from sympy.plotting import plot\n",
        "x= symbols('x')\n",
        "p1 = plot(str(w[1]), show=False)\n",
        "from sympy import *\n",
        "p1.show()\n",
        "pprint (w[1])\n",
        "#x1=simplify(w[1])\n",
        "#pprint(x1)\n"
      ]
    }
  ]
}