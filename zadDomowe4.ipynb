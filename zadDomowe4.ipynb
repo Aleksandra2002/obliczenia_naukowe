{
  "nbformat": 4,
  "nbformat_minor": 0,
  "metadata": {
    "colab": {
      "name": "Kopia notatnika pracadomowa4.ipynb",
      "provenance": [],
      "authorship_tag": "ABX9TyMkEH+z7/SDEBmucjbiLCX5",
      "include_colab_link": true
    },
    "kernelspec": {
      "name": "python3",
      "display_name": "Python 3"
    },
    "language_info": {
      "name": "python"
    }
  },
  "cells": [
    {
      "cell_type": "markdown",
      "metadata": {
        "id": "view-in-github",
        "colab_type": "text"
      },
      "source": [
        "<a href=\"https://colab.research.google.com/github/Aleksandra2002/obliczenia_naukowe/blob/main/zadDomowe4.ipynb\" target=\"_parent\"><img src=\"https://colab.research.google.com/assets/colab-badge.svg\" alt=\"Open In Colab\"/></a>"
      ]
    },
    {
      "cell_type": "markdown",
      "source": [
        "Zadanie 1\n",
        "Napisz metodę, która oblicza pole między osią OX a wykresem funkcji na danym przedziale za pomocą sum Riemanna (przybliżeń prostokątami). Sprawdź jej działanie na wybranej przez siebie funkcji porównując z wynikiem całkownia symbolicznego.\n",
        "\n",
        "Korzystając z symbolicznych pochodnych i szukania ekstremów dobierz takie parametry do swojej funkcji, aby błąd całkowania był mniejszy niż 10^-5"
      ],
      "metadata": {
        "id": "XrB7c0uZuscL"
      }
    },
    {
      "cell_type": "code",
      "execution_count": 3,
      "metadata": {
        "colab": {
          "base_uri": "https://localhost:8080/"
        },
        "id": "OQ1rnSe-unlq",
        "outputId": "13c137bd-3e27-4f16-fb44-e5ab7b8ca31f"
      },
      "outputs": [
        {
          "output_type": "execute_result",
          "data": {
            "text/plain": [
              "218.75"
            ]
          },
          "metadata": {},
          "execution_count": 3
        }
      ],
      "source": [
        "import numpy as np\n",
        "np.linspace(0,1,10)\n",
        "def calka(funkcja,a,b,N):\n",
        "  podzial=np.linspace(a,b,N)\n",
        "  podstawa=(b-a)/(N-1)\n",
        "  wartosc=0\n",
        "  for i in range(N-1):\n",
        "    wartosc+=podstawa*abs(funkcja(podzial[i]))\n",
        "  return wartosc\n",
        "calka(lambda x:x**2,0,10,5)"
      ]
    },
    {
      "cell_type": "code",
      "source": [
        "from math import *\n",
        "import sympy as sp\n",
        "from sympy.utilities.lambdify import lambdify\n",
        "def blad(f,x,a,b):\n",
        "  poch1=sp.diff(f,x)\n",
        "  poch2=sp.diff(poch1,x)\n",
        "  wart=[poch1.subs(x,a),poch1.subs(x,b)]\n",
        "  for ele in sp.solve(poch2):\n",
        "    if a < ele <b:\n",
        "      wart.append(poch1.subs(x,ele))\n",
        "  M=max(wart)\n",
        "  N = floor(((10**5)*((b-a)**2)/2)*M+1)\n",
        "  fun = lambdify(x,f)\n",
        "  return calka(fun,a,b,N)\n",
        "x=sp.symbols('x')\n",
        "f=x**2\n",
        "blad(f,x,0,1)\n"
      ],
      "metadata": {
        "id": "moEN0WY1x-iB",
        "colab": {
          "base_uri": "https://localhost:8080/",
          "height": 38
        },
        "outputId": "a1d68fce-e56b-457c-af5c-72bf48bb333e"
      },
      "execution_count": 4,
      "outputs": [
        {
          "output_type": "execute_result",
          "data": {
            "text/plain": [
              "0.333328333349997"
            ],
            "text/latex": "$\\displaystyle 0.333328333349997$"
          },
          "metadata": {},
          "execution_count": 4
        }
      ]
    }
  ]
}