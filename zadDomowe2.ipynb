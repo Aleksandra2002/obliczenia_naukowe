{
  "nbformat": 4,
  "nbformat_minor": 0,
  "metadata": {
    "colab": {
      "name": "Kopia notatnika LAB2 - zadanie domowe",
      "provenance": [],
      "include_colab_link": true
    },
    "kernelspec": {
      "name": "python3",
      "display_name": "Python 3"
    },
    "language_info": {
      "name": "python"
    }
  },
  "cells": [
    {
      "cell_type": "markdown",
      "metadata": {
        "id": "view-in-github",
        "colab_type": "text"
      },
      "source": [
        "<a href=\"https://colab.research.google.com/github/Aleksandra2002/obliczenia_naukowe/blob/main/zadDomowe2.ipynb\" target=\"_parent\"><img src=\"https://colab.research.google.com/assets/colab-badge.svg\" alt=\"Open In Colab\"/></a>"
      ]
    },
    {
      "cell_type": "markdown",
      "source": [
        "#### Zadanie 1\n",
        "Niech $L1 = [\"1\", \"10\", \"2\", \"15\", \"22\", \"112\"]$ oraz $L2 = [\"0.5\", \"1\", \"15\", \"22.4\", \"22\", \"211\"]$.\n",
        "\n",
        "Posortuj listy $L1$ i $L2$ zgodnie z wartościami zapisanych liczb (a nie leksykograficznie). Stwórz Listę $L3$, która będzie zawierała wartości liczbowe utworzone poprzez konkatenację napisów z posortowanych list $L1$ oraz $L2$."
      ],
      "metadata": {
        "id": "ENCL_g8HsECL"
      }
    },
    {
      "cell_type": "code",
      "source": [
        "L1 = ['1','10','2','15','22','112']\n",
        "L2 = ['0.5','1','15','22.4','22','211']\n",
        "def nieleks(elem):\n",
        "  return float(elem)\n",
        "L1posortowana = sorted(L1, key=nieleks)\n",
        "L2posortowana = sorted(L2, key=nieleks)\n",
        "L3= L1posortowana + L2posortowana\n",
        "print(L1posortowana)\n",
        "print(L3)"
      ],
      "metadata": {
        "id": "v4FjR5mosF-A",
        "colab": {
          "base_uri": "https://localhost:8080/"
        },
        "outputId": "10b88093-c66b-422e-d71b-ecfe737b45a5"
      },
      "execution_count": null,
      "outputs": [
        {
          "output_type": "stream",
          "name": "stdout",
          "text": [
            "['1', '2', '10', '15', '22', '112']\n",
            "['1', '2', '10', '15', '22', '112', '0.5', '1', '15', '22', '22.4', '211']\n"
          ]
        }
      ]
    },
    {
      "cell_type": "markdown",
      "source": [
        "#### Zadanie 2\n",
        "Dane są dwie listy upodobań:\n",
        "\n",
        "Jarek = ['koty', 'dobrze zjesc', 'piwo', 'bose spacery po trawie', 'pilka nozna'],\n",
        "\n",
        "Marek = ['piwo', 'psy', 'dobrze zjesc', 'siatkowka', 'seriale'].\n",
        "\n",
        "Na ich podstawie:\n",
        "\n",
        "1.  przygotuj zbiory $Jarek$ i $Marek$, i wyświetl ich zawartość,\n",
        "\n",
        "2.  oblicz sumę ich upodobań, to co wspólnie lubią, to co lubi tylko Jarek, to co lubi tylko Marek i wyświetl ich zawartości"
      ],
      "metadata": {
        "id": "ACNcsNASsGda"
      }
    },
    {
      "cell_type": "code",
      "source": [
        "#ZAD.2.1\n",
        "Jarek = ['koty','dobrze zjesc','piwo','bose spacery po trawie','pilka nozna']\n",
        "Marek = ['piwo','psy','dobrze zjesc','siatkowka','seriale']\n",
        "zbiorJ = set(Jarek)\n",
        "zbiorM = set(Marek)\n",
        "print (zbiorJ)\n",
        "print (zbiorM)"
      ],
      "metadata": {
        "id": "EJJeCBPrsSkQ",
        "colab": {
          "base_uri": "https://localhost:8080/"
        },
        "outputId": "9b6118cc-f4b6-412a-cbdc-6f272c3e9bfa"
      },
      "execution_count": null,
      "outputs": [
        {
          "output_type": "stream",
          "name": "stdout",
          "text": [
            "{'pilka nozna', 'bose spacery po trawie', 'koty', 'dobrze zjesc', 'piwo'}\n",
            "{'psy', 'siatkowka', 'dobrze zjesc', 'piwo', 'seriale'}\n"
          ]
        }
      ]
    },
    {
      "cell_type": "code",
      "source": [
        "#ZAD.2.2\n",
        "suma_upodobań = zbiorJ.union(zbiorM)\n",
        "print (\"1. Suma upodobań wynosi\", len(suma_upodobań), \"i są to:\", suma_upodobań)\n",
        "wspolne_zainteresowania= zbiorJ.intersection(zbiorM)\n",
        "print (\"2. Liczba wspólnych upodobań wynosi\", len(wspolne_zainteresowania), \"i są to:\", wspolne_zainteresowania)\n",
        "tylko_Jlubi = zbiorJ.difference(zbiorM)\n",
        "print (\"3. Tylko Jarek lubi\", len(tylko_Jlubi), \"rzeczy i są to:\", tylko_Jlubi)\n",
        "tylko_Mlubi = zbiorM.difference(zbiorJ)\n",
        "print (\"4. Tylko Marek lubi\", len(tylko_Mlubi), \"rzeczy i są to:\", tylko_Mlubi)"
      ],
      "metadata": {
        "id": "wz62PlFtsTJT",
        "colab": {
          "base_uri": "https://localhost:8080/"
        },
        "outputId": "c20ce537-6179-44f1-ad90-ddd319b5f52d"
      },
      "execution_count": null,
      "outputs": [
        {
          "output_type": "stream",
          "name": "stdout",
          "text": [
            "1. Suma upodobań wynosi 8 i są to: {'psy', 'pilka nozna', 'bose spacery po trawie', 'siatkowka', 'koty', 'dobrze zjesc', 'piwo', 'seriale'}\n",
            "2. Liczba wspólnych upodobań wynosi 2 i są to: {'dobrze zjesc', 'piwo'}\n",
            "3. Tylko Jarek lubi 3 rzeczy i są to: {'koty', 'pilka nozna', 'bose spacery po trawie'}\n",
            "4. Tylko Marek lubi 3 rzeczy i są to: {'seriale', 'psy', 'siatkowka'}\n"
          ]
        }
      ]
    },
    {
      "cell_type": "markdown",
      "source": [
        "#### Zadanie 3\n",
        "Napisz **funkcję** bezargumentową o nazwie listownik(), która\n",
        "* zapyta o długośc listy, która musi znaleźć się w przedziale $[10,20]$ (przypilnuj użytkownika)\n",
        "* wygeneruje  i wydrukuje listę o odpowiedniej długości z liczbami losowymi  przedziału $[0,10]$\n",
        "* **zwróci** liczbę unikalnych wartości w wygenerowanej liście\n",
        "\n",
        "W rozwiązaniu można korzystać z funkcji pomocniczych.\n"
      ],
      "metadata": {
        "id": "gvgzYVq7tVRB"
      }
    },
    {
      "cell_type": "code",
      "source": [
        "import math\n",
        "def listownik():\n",
        "  a= int(input(\"Podaj liczbę z przedziału [10,20]: \"))\n",
        "  if a>=10 and a<=20:\n",
        "    lista_liczb=[]\n",
        "    for b in range(a):\n",
        "      lista_liczb.append(random.randrange(0,10,1))\n",
        "    print (lista_liczb)\n",
        "  else:\n",
        "   print( \"Niepoprawna liczba\")"
      ],
      "metadata": {
        "id": "lhi0JLcntXrQ"
      },
      "execution_count": null,
      "outputs": []
    }
  ]
}