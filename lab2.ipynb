{
  "nbformat": 4,
  "nbformat_minor": 0,
  "metadata": {
    "colab": {
      "name": "lab2.ipynb",
      "provenance": [],
      "authorship_tag": "ABX9TyPgZURGy8AyJmPpT/htO4SY",
      "include_colab_link": true
    },
    "kernelspec": {
      "name": "python3",
      "display_name": "Python 3"
    },
    "language_info": {
      "name": "python"
    }
  },
  "cells": [
    {
      "cell_type": "markdown",
      "metadata": {
        "id": "view-in-github",
        "colab_type": "text"
      },
      "source": [
        "<a href=\"https://colab.research.google.com/github/Aleksandra2002/obliczenia_naukowe/blob/main/lab2.ipynb\" target=\"_parent\"><img src=\"https://colab.research.google.com/assets/colab-badge.svg\" alt=\"Open In Colab\"/></a>"
      ]
    },
    {
      "cell_type": "code",
      "source": [
        "#warunki\n",
        "if 3+4 == 6:\n",
        "  print (\"prawda\")\n",
        "else:\n",
        "  print (\"fałsz\")"
      ],
      "metadata": {
        "colab": {
          "base_uri": "https://localhost:8080/"
        },
        "id": "97ovH0sgZlCK",
        "outputId": "f2a45842-610f-48af-e6e4-65ac02a6956f"
      },
      "execution_count": 6,
      "outputs": [
        {
          "output_type": "stream",
          "name": "stdout",
          "text": [
            "fałsz\n"
          ]
        }
      ]
    },
    {
      "cell_type": "code",
      "source": [
        "#for\n",
        "for i in range (1,5):\n",
        "  print(i)"
      ],
      "metadata": {
        "colab": {
          "base_uri": "https://localhost:8080/"
        },
        "id": "ycTtppP8aCLE",
        "outputId": "d7225346-abcb-49e8-96f3-5743e792dfd8"
      },
      "execution_count": 7,
      "outputs": [
        {
          "output_type": "stream",
          "name": "stdout",
          "text": [
            "1\n",
            "2\n",
            "3\n",
            "4\n"
          ]
        }
      ]
    },
    {
      "cell_type": "code",
      "source": [
        "#liczba parzysta\n",
        "for x in range(101):\n",
        "   if x%2 == 0:\n",
        "       print(x)"
      ],
      "metadata": {
        "colab": {
          "base_uri": "https://localhost:8080/"
        },
        "id": "YHj9YQaPb78G",
        "outputId": "ca9735d9-42b4-4b61-9fab-25e8b14965e2"
      },
      "execution_count": 19,
      "outputs": [
        {
          "output_type": "stream",
          "name": "stdout",
          "text": [
            "0\n",
            "2\n",
            "4\n",
            "6\n",
            "8\n",
            "10\n",
            "12\n",
            "14\n",
            "16\n",
            "18\n",
            "20\n",
            "22\n",
            "24\n",
            "26\n",
            "28\n",
            "30\n",
            "32\n",
            "34\n",
            "36\n",
            "38\n",
            "40\n",
            "42\n",
            "44\n",
            "46\n",
            "48\n",
            "50\n",
            "52\n",
            "54\n",
            "56\n",
            "58\n",
            "60\n",
            "62\n",
            "64\n",
            "66\n",
            "68\n",
            "70\n",
            "72\n",
            "74\n",
            "76\n",
            "78\n",
            "80\n",
            "82\n",
            "84\n",
            "86\n",
            "88\n",
            "90\n",
            "92\n",
            "94\n",
            "96\n",
            "98\n",
            "100\n"
          ]
        }
      ]
    },
    {
      "cell_type": "code",
      "source": [
        "#while\n",
        "i=1\n",
        "while i<10:\n",
        "  print (i)\n",
        "  i +=1\n",
        "  if i==6:\n",
        "    break"
      ],
      "metadata": {
        "colab": {
          "base_uri": "https://localhost:8080/"
        },
        "id": "xgXlnfkCcF7B",
        "outputId": "c617aa15-a853-4e03-f29c-554ffd51126c"
      },
      "execution_count": 22,
      "outputs": [
        {
          "output_type": "stream",
          "name": "stdout",
          "text": [
            "1\n",
            "2\n",
            "3\n",
            "4\n",
            "5\n"
          ]
        }
      ]
    },
    {
      "cell_type": "code",
      "source": [
        "#funkcje\n",
        "def kombinacja(x):\n",
        "  a = x+5\n",
        "  return a\n",
        "print (kombinacja(10))"
      ],
      "metadata": {
        "colab": {
          "base_uri": "https://localhost:8080/"
        },
        "id": "D_a7JKsFcj2D",
        "outputId": "c63058b3-e307-430e-9f22-1ea184cc8db7"
      },
      "execution_count": 44,
      "outputs": [
        {
          "output_type": "stream",
          "name": "stdout",
          "text": [
            "15\n"
          ]
        }
      ]
    },
    {
      "cell_type": "code",
      "source": [
        "x=5\n",
        "def potega(x, n=2):\n",
        "  a= x**n \n",
        "  return a\n",
        "print(potega(3))"
      ],
      "metadata": {
        "colab": {
          "base_uri": "https://localhost:8080/"
        },
        "id": "D9SYWqJwdeMJ",
        "outputId": "754e0838-f473-4ad1-e035-91b47b49af71"
      },
      "execution_count": 46,
      "outputs": [
        {
          "output_type": "stream",
          "name": "stdout",
          "text": [
            "9\n"
          ]
        }
      ]
    },
    {
      "cell_type": "code",
      "source": [
        "#lambda\n",
        "dodawanie = lambda x,y: x+y\n",
        "dodawanie (2,3)"
      ],
      "metadata": {
        "colab": {
          "base_uri": "https://localhost:8080/"
        },
        "id": "i2warzxUeNT_",
        "outputId": "dc444ab0-b21b-4a75-cbc8-e10732fceddf"
      },
      "execution_count": 38,
      "outputs": [
        {
          "output_type": "execute_result",
          "data": {
            "text/plain": [
              "5"
            ]
          },
          "metadata": {},
          "execution_count": 38
        }
      ]
    },
    {
      "cell_type": "code",
      "source": [
        "#listy\n",
        "lista1 = [1,2,\"Ala\",True, [2,3,4], \"kot\"]\n",
        "lista1[2]\n",
        "lista1[2:4]\n",
        "lista1[1:5:2]\n",
        "(1,2,3)\n",
        "lista1.sorted()"
      ],
      "metadata": {
        "colab": {
          "base_uri": "https://localhost:8080/",
          "height": 200
        },
        "id": "_qIM-tYIfFER",
        "outputId": "452300a9-0c00-4a14-ac63-8322f04e02a3"
      },
      "execution_count": 64,
      "outputs": [
        {
          "output_type": "error",
          "ename": "AttributeError",
          "evalue": "ignored",
          "traceback": [
            "\u001b[0;31m---------------------------------------------------------------------------\u001b[0m",
            "\u001b[0;31mAttributeError\u001b[0m                            Traceback (most recent call last)",
            "\u001b[0;32m<ipython-input-64-8b26f49de230>\u001b[0m in \u001b[0;36m<module>\u001b[0;34m()\u001b[0m\n\u001b[1;32m      5\u001b[0m \u001b[0mlista1\u001b[0m\u001b[0;34m[\u001b[0m\u001b[0;36m1\u001b[0m\u001b[0;34m:\u001b[0m\u001b[0;36m5\u001b[0m\u001b[0;34m:\u001b[0m\u001b[0;36m2\u001b[0m\u001b[0;34m]\u001b[0m\u001b[0;34m\u001b[0m\u001b[0;34m\u001b[0m\u001b[0m\n\u001b[1;32m      6\u001b[0m \u001b[0;34m(\u001b[0m\u001b[0;36m1\u001b[0m\u001b[0;34m,\u001b[0m\u001b[0;36m2\u001b[0m\u001b[0;34m,\u001b[0m\u001b[0;36m3\u001b[0m\u001b[0;34m)\u001b[0m\u001b[0;34m\u001b[0m\u001b[0;34m\u001b[0m\u001b[0m\n\u001b[0;32m----> 7\u001b[0;31m \u001b[0mlista1\u001b[0m\u001b[0;34m.\u001b[0m\u001b[0msorted\u001b[0m\u001b[0;34m\u001b[0m\u001b[0;34m\u001b[0m\u001b[0m\n\u001b[0m",
            "\u001b[0;31mAttributeError\u001b[0m: 'list' object has no attribute 'sorted'"
          ]
        }
      ]
    },
    {
      "cell_type": "code",
      "source": [
        "#sortowanie malejące\n",
        "lista2=[2,5,3,4,6,7]\n",
        "a=lista2.sort(reverse=True)\n",
        "print(a)"
      ],
      "metadata": {
        "colab": {
          "base_uri": "https://localhost:8080/"
        },
        "id": "6IDXGP6gh_0y",
        "outputId": "22cb776f-f94e-44e6-8ef1-982b50c12100"
      },
      "execution_count": 73,
      "outputs": [
        {
          "output_type": "stream",
          "name": "stdout",
          "text": [
            "None\n"
          ]
        }
      ]
    },
    {
      "cell_type": "code",
      "source": [
        "list(range(10))"
      ],
      "metadata": {
        "colab": {
          "base_uri": "https://localhost:8080/"
        },
        "id": "1i8Yy3Fyg_bH",
        "outputId": "89fd48cf-3e69-4618-f3bb-f5a7f21d1734"
      },
      "execution_count": 63,
      "outputs": [
        {
          "output_type": "execute_result",
          "data": {
            "text/plain": [
              "[0, 1, 2, 3, 4, 5, 6, 7, 8, 9]"
            ]
          },
          "metadata": {},
          "execution_count": 63
        }
      ]
    },
    {
      "cell_type": "code",
      "source": [
        "#zad1\n",
        "#wypełnij listę zawierającą liczby niedodatnie z przedziału [-15,10] podzielne prze 3  i ustawione malejąco\n",
        "lista11= []\n",
        "for i in range(-15,11):\n",
        "  if i<0 and i%3== 0:\n",
        "    lista11.append(i)\n",
        "print(lista11)\n",
        "#ustawienie malejąco\n",
        "lista11.sort(reverse=True)"
      ],
      "metadata": {
        "colab": {
          "base_uri": "https://localhost:8080/"
        },
        "id": "HHN_8Nohi4To",
        "outputId": "382072c3-9d95-4487-d63f-e5c756c1e2ad"
      },
      "execution_count": 111,
      "outputs": [
        {
          "output_type": "stream",
          "name": "stdout",
          "text": [
            "[-15, -12, -9, -6, -3]\n"
          ]
        }
      ]
    },
    {
      "cell_type": "code",
      "source": [
        "#zad2\n",
        "#wypisz liste kwadratów\n",
        "#wypisz wartosci funkcji f(x)=x/(-x-2)\n",
        "#wypisz liczby podzielne przez 3\n",
        "#a\n",
        "L=[1,3,5,7,8,10]\n",
        "l2=[]\n",
        "for el in L:\n",
        "  d = potega(el)\n",
        "  l2.append(d)\n",
        "print(l2)\n",
        "#b\n",
        "def wartosc(s):\n",
        "  wynik= s/(s-2)\n",
        "  return wynik\n",
        "l3=[]\n",
        "for ele in L:\n",
        "  wrt= wartosc(ele)\n",
        "  l3.append(wrt)\n",
        "print(l3)\n",
        "#c\n",
        "l4=[]\n",
        "for elem in L:\n",
        "  if elem%3==0:\n",
        "    l4.append(elem)\n",
        "print(l4)"
      ],
      "metadata": {
        "colab": {
          "base_uri": "https://localhost:8080/"
        },
        "id": "GJVd218wkpA2",
        "outputId": "299b3f3a-54b6-46bf-d43e-abbe53c2ae38"
      },
      "execution_count": 104,
      "outputs": [
        {
          "output_type": "stream",
          "name": "stdout",
          "text": [
            "[1, 9, 25, 49, 64, 100]\n",
            "[-1.0, 3.0, 1.6666666666666667, 1.4, 1.3333333333333333, 1.25]\n",
            "[3]\n"
          ]
        }
      ]
    },
    {
      "cell_type": "code",
      "source": [
        "#ZBIORY - nie ma kolejności\n",
        "K= {4,6,3,54, \"pies\"}\n",
        "len(K)\n",
        "K.remove(\"pies\") # usuwa do zbioru\n",
        "K.add(\"kot\") # dodaje do zbioru\n",
        "# lub K.update (zbiór1) --- dokleja zbiór1 do K\n"
      ],
      "metadata": {
        "id": "DEmB8BWuo0cF"
      },
      "execution_count": 122,
      "outputs": []
    }
  ]
}
