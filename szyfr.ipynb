{
  "nbformat": 4,
  "nbformat_minor": 0,
  "metadata": {
    "colab": {
      "name": "szyfrCezara.ipynb",
      "provenance": [],
      "authorship_tag": "ABX9TyNfRlqQCQ+NA9kc5r0tjDLu",
      "include_colab_link": true
    },
    "kernelspec": {
      "name": "python3",
      "display_name": "Python 3"
    },
    "language_info": {
      "name": "python"
    }
  },
  "cells": [
    {
      "cell_type": "markdown",
      "metadata": {
        "id": "view-in-github",
        "colab_type": "text"
      },
      "source": [
        "<a href=\"https://colab.research.google.com/github/Aleksandra2002/obliczenia_naukowe/blob/main/szyfr.ipynb\" target=\"_parent\"><img src=\"https://colab.research.google.com/assets/colab-badge.svg\" alt=\"Open In Colab\"/></a>"
      ]
    },
    {
      "cell_type": "markdown",
      "source": [
        "### Zadanie domowe\n",
        "\n",
        "Napisz program, który wczytuje plik tekstowy i koduje go szyfrem cezara (z przesunięciem podawanym jako argument). Wynik szyfrowania ma być zapisany do nowego pliku.\n",
        "\n",
        "Przykładowe uruchomienie:\n",
        "```\n",
        "szyfuj(list.txt, 5)\n",
        "```\n",
        "powoduje stworzenie pliku zaszyfrowany_tekst.txt z listem zaszyfrowanym przesunięciem o 5.\n",
        "\n",
        "**Dla ambitnych:** napisać program tak, żeby nazwa pliku wyjściowego była powiązana z nazwą wejściowego np. \n",
        "* list.txt -> list_szyfr.txt\n",
        "* tekst.txt->tekst_szyfr.txt"
      ],
      "metadata": {
        "id": "wQog734hHvbF"
      }
    },
    {
      "cell_type": "code",
      "source": [
        "import numpy as np\n",
        "import pandas as pd"
      ],
      "metadata": {
        "id": "FKXkviiXc0Ey"
      },
      "execution_count": 187,
      "outputs": []
    },
    {
      "cell_type": "code",
      "execution_count": 193,
      "metadata": {
        "colab": {
          "base_uri": "https://localhost:8080/"
        },
        "id": "StcxmIzsHkVw",
        "outputId": "59d15030-b2f7-401e-a4c5-1413ea2e7795"
      },
      "outputs": [
        {
          "output_type": "stream",
          "name": "stdout",
          "text": [
            "OegtivD!@#\n"
          ]
        }
      ],
      "source": [
        "def szyfruj(txt, klucz):\n",
        "    zaszyfrowny = \"\"\n",
        "    for i in range(len(txt)):\n",
        "        if (ord(txt[i]) in range (65,91-klucz)) or (ord(txt[i])in range (97,123-klucz)):\n",
        "          zaszyfrowny += chr(ord(txt[i]) + klucz)\n",
        "        elif ord(txt[i]) in range (65,91):\n",
        "          if ord(txt[i])+klucz in range (90,97):\n",
        "            zaszyfrowny += chr(klucz - 90%ord(txt[i])+64) \n",
        "        elif ord(txt[i])+klucz > 121 :\n",
        "          zaszyfrowny += chr(klucz - 122%ord(txt[i])+96)\n",
        "        else:\n",
        "            zaszyfrowny += txt[i]\n",
        "    return zaszyfrowny\n",
        "print(szyfruj('KacperZ!@#', 4))"
      ]
    }
  ]
}