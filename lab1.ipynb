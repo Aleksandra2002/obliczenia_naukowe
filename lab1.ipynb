{
  "nbformat": 4,
  "nbformat_minor": 0,
  "metadata": {
    "colab": {
      "name": "lab1_OlaGrzegórska.ipynb",
      "provenance": [],
      "authorship_tag": "ABX9TyOnqZJHygZYvK6iBrI0tHoy",
      "include_colab_link": true
    },
    "kernelspec": {
      "name": "python3",
      "display_name": "Python 3"
    },
    "language_info": {
      "name": "python"
    }
  },
  "cells": [
    {
      "cell_type": "markdown",
      "metadata": {
        "id": "view-in-github",
        "colab_type": "text"
      },
      "source": [
        "<a href=\"https://colab.research.google.com/github/Aleksandra2002/obliczenia_naukowe/blob/main/lab1_OlaGrzeg%C3%B3rska.ipynb\" target=\"_parent\"><img src=\"https://colab.research.google.com/assets/colab-badge.svg\" alt=\"Open In Colab\"/></a>"
      ]
    },
    {
      "cell_type": "markdown",
      "source": [
        "#nagłówek jakiś\n",
        "## tak się robi drugie piętro\n",
        "### ilość hasztagów zależy od wcięcia\n",
        "wyróżnienia tesktu:\n",
        "**pogrubienie** \n",
        "*pochyły*\n",
        "| - znak tabelki\n",
        "$\n",
        "Latex \n",
        "$ lim_{n\\to\\inf}"
      ],
      "metadata": {
        "id": "Dx7UAdu9Atio"
      }
    }
  ]
}
